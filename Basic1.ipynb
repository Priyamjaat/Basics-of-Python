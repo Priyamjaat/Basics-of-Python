{
 "cells": [
  {
   "cell_type": "code",
   "execution_count": 1,
   "id": "d38580a6-d587-48d7-88db-3e60f694463b",
   "metadata": {},
   "outputs": [
    {
     "name": "stdout",
     "output_type": "stream",
     "text": [
      "bhagat singh\n"
     ]
    }
   ],
   "source": [
    "a='bhagat '\n",
    "b='singh'\n",
    "c=a+b\n",
    "print(c)"
   ]
  },
  {
   "cell_type": "code",
   "execution_count": 3,
   "id": "e36df70c-4e94-4a81-bfdc-55ad538e3f6d",
   "metadata": {},
   "outputs": [
    {
     "name": "stdout",
     "output_type": "stream",
     "text": [
      "100\n"
     ]
    }
   ],
   "source": [
    "a=100\n",
    "print(str(a))"
   ]
  },
  {
   "cell_type": "code",
   "execution_count": 5,
   "id": "dc88aea0-b1c5-4d37-94c3-6d3eedf5d496",
   "metadata": {},
   "outputs": [
    {
     "name": "stdout",
     "output_type": "stream",
     "text": [
      "Chaudhary16\n"
     ]
    }
   ],
   "source": [
    "a='Chaudhary'\n",
    "b=16\n",
    "c=a+str(b)\n",
    "print(c)"
   ]
  },
  {
   "cell_type": "code",
   "execution_count": 7,
   "id": "043ce9af-84d6-4600-ad27-9842f74af69a",
   "metadata": {},
   "outputs": [
    {
     "name": "stdout",
     "output_type": "stream",
     "text": [
      "130\n"
     ]
    }
   ],
   "source": [
    "a=10\n",
    "b=20\n",
    "c=100\n",
    "print(a+b+c)"
   ]
  },
  {
   "cell_type": "code",
   "execution_count": 9,
   "id": "25c2b084-faf3-4ebc-ab0e-6164da948098",
   "metadata": {},
   "outputs": [
    {
     "name": "stdout",
     "output_type": "stream",
     "text": [
      "Chaudhary Rishipal Singh \n"
     ]
    }
   ],
   "source": [
    "a='Chaudhary '\n",
    "b='Rishipal '\n",
    "c='Singh '\n",
    "d=a+b+c\n",
    "print(d)"
   ]
  },
  {
   "cell_type": "code",
   "execution_count": 11,
   "id": "ff6a9af1-c63b-4922-9b34-2e270fccbf81",
   "metadata": {},
   "outputs": [
    {
     "name": "stdin",
     "output_type": "stream",
     "text": [
      "Enter first  Priyam\n",
      "Enter second   Chaudhary\n"
     ]
    },
    {
     "name": "stdout",
     "output_type": "stream",
     "text": [
      "Priyam Chaudhary\n"
     ]
    }
   ],
   "source": [
    "a=input(\"Enter first \")\n",
    "b=input(\"Enter second \")\n",
    "c=a+b\n",
    "print(c)"
   ]
  },
  {
   "cell_type": "code",
   "execution_count": 13,
   "id": "8b4dcc66-b56f-4ffa-8d85-db42739a92b6",
   "metadata": {},
   "outputs": [
    {
     "name": "stdin",
     "output_type": "stream",
     "text": [
      "Enter first Number  23\n",
      "Enter second Number  43\n"
     ]
    },
    {
     "name": "stdout",
     "output_type": "stream",
     "text": [
      "66\n"
     ]
    }
   ],
   "source": [
    "a=int(input(\"Enter first Number \"))\n",
    "b=int(input(\"Enter second Number \"))\n",
    "c=a+b\n",
    "print(c)"
   ]
  },
  {
   "cell_type": "code",
   "execution_count": 15,
   "id": "47eb7cc4-6863-4331-a1e5-ff1fd19ea302",
   "metadata": {},
   "outputs": [
    {
     "name": "stdout",
     "output_type": "stream",
     "text": [
      "1\n",
      "2\n",
      "3\n",
      "4\n",
      "5\n",
      "6\n",
      "7\n",
      "8\n",
      "9\n"
     ]
    }
   ],
   "source": [
    "i=1\n",
    "while i<10:\n",
    "    print(i)\n",
    "    i=i+1"
   ]
  },
  {
   "cell_type": "code",
   "execution_count": 27,
   "id": "93550c09-f75f-4cc4-affd-da0a57272630",
   "metadata": {},
   "outputs": [
    {
     "name": "stdout",
     "output_type": "stream",
     "text": [
      "[0, 1, 2, 3, 4, 5, 6, 7, 8, 9]\n",
      "[10, 11, 12, 13, 14, 15, 16, 17, 18, 19]\n",
      "[2, 4, 6, 8, 10, 12, 14, 16, 18]\n",
      "[]\n",
      "[-10, -12, -14, -16, -18]\n"
     ]
    }
   ],
   "source": [
    "c=list(range(10))\n",
    "print(c)\n",
    "print(list(range(10,20)))\n",
    "print(list(range(2,20,2)))\n",
    "print(list(range(-10,-20,2)))\n",
    "print(list(range(-10,-20,-2)))"
   ]
  },
  {
   "cell_type": "code",
   "execution_count": 29,
   "id": "efc14d54-5969-4517-9560-2a3c927057f1",
   "metadata": {},
   "outputs": [
    {
     "name": "stdout",
     "output_type": "stream",
     "text": [
      "0\n",
      "1\n",
      "2\n",
      "3\n",
      "4\n",
      "5\n",
      "6\n",
      "7\n",
      "8\n",
      "9\n"
     ]
    }
   ],
   "source": [
    "for i in range(0,10):\n",
    "    print(i)"
   ]
  },
  {
   "cell_type": "code",
   "execution_count": 33,
   "id": "92c08547-c2a8-4567-85df-6d9ad0f152b1",
   "metadata": {},
   "outputs": [
    {
     "name": "stdout",
     "output_type": "stream",
     "text": [
      "0\n",
      "2\n",
      "4\n",
      "6\n",
      "8\n"
     ]
    }
   ],
   "source": [
    "for i in range(0,10,2):\n",
    "    print(i)"
   ]
  },
  {
   "cell_type": "code",
   "execution_count": 35,
   "id": "5e8b1ab7-cf22-4f72-93a9-ca8b5664f983",
   "metadata": {},
   "outputs": [
    {
     "name": "stdout",
     "output_type": "stream",
     "text": [
      "0\n",
      "-1\n",
      "-2\n",
      "-3\n",
      "-4\n",
      "-5\n",
      "-6\n",
      "-7\n",
      "-8\n",
      "-9\n"
     ]
    }
   ],
   "source": [
    "for i in range(0,-10,-1):\n",
    "    print(i)"
   ]
  },
  {
   "cell_type": "code",
   "execution_count": 37,
   "id": "206d9d67-713f-4037-ac6d-91cb49a0731a",
   "metadata": {},
   "outputs": [
    {
     "name": "stdout",
     "output_type": "stream",
     "text": [
      "5\n",
      "10\n",
      "15\n",
      "20\n",
      "25\n",
      "30\n",
      "35\n",
      "40\n",
      "45\n",
      "50\n"
     ]
    }
   ],
   "source": [
    "for i in range(1,11):\n",
    "    print(i*5)"
   ]
  },
  {
   "cell_type": "code",
   "execution_count": 39,
   "id": "8709029d-8c14-4059-b517-11eaa452f03e",
   "metadata": {},
   "outputs": [
    {
     "name": "stdout",
     "output_type": "stream",
     "text": [
      "55\n"
     ]
    }
   ],
   "source": [
    "s=0\n",
    "for i in range(1,11):\n",
    "    s=s+i\n",
    "print(s)    "
   ]
  },
  {
   "cell_type": "code",
   "execution_count": 41,
   "id": "f7bce9bc-013b-4e82-b8c3-88176ef4695e",
   "metadata": {},
   "outputs": [
    {
     "name": "stdout",
     "output_type": "stream",
     "text": [
      "55\n"
     ]
    }
   ],
   "source": [
    "s=sum(range(1,11))\n",
    "print(s)"
   ]
  },
  {
   "cell_type": "code",
   "execution_count": 43,
   "id": "60ba2123-084e-485e-8c21-628954a20f00",
   "metadata": {},
   "outputs": [
    {
     "name": "stdout",
     "output_type": "stream",
     "text": [
      "7\n",
      "14\n",
      "21\n",
      "28\n",
      "35\n",
      "42\n",
      "49\n",
      "56\n",
      "63\n",
      "70\n"
     ]
    }
   ],
   "source": [
    "for i in range(1,11):\n",
    "    print(i*7)"
   ]
  },
  {
   "cell_type": "code",
   "execution_count": 45,
   "id": "ba496cdb-5f5d-4cce-b4df-1e5b48ca3f28",
   "metadata": {},
   "outputs": [
    {
     "name": "stdin",
     "output_type": "stream",
     "text": [
      "Enter number  12\n"
     ]
    },
    {
     "name": "stdout",
     "output_type": "stream",
     "text": [
      "12\n",
      "24\n",
      "36\n",
      "48\n",
      "60\n",
      "72\n",
      "84\n",
      "96\n",
      "108\n",
      "120\n"
     ]
    }
   ],
   "source": [
    "n=int(input(\"Enter number \"))\n",
    "for i in range(1,11):\n",
    "    print(n*i);"
   ]
  },
  {
   "cell_type": "code",
   "execution_count": 49,
   "id": "cabda32b-b853-44f9-a879-e35320301a5a",
   "metadata": {},
   "outputs": [
    {
     "name": "stdin",
     "output_type": "stream",
     "text": [
      "Enter number:  12\n"
     ]
    },
    {
     "name": "stdout",
     "output_type": "stream",
     "text": [
      "78\n"
     ]
    }
   ],
   "source": [
    "s=0\n",
    "n=int(input(\"Enter number: \"))\n",
    "for i in range(1,n+1):\n",
    "    s=s+i\n",
    "print(s)    "
   ]
  },
  {
   "cell_type": "code",
   "execution_count": 51,
   "id": "9b3742ed-d431-44c9-9839-494f14e09cd1",
   "metadata": {},
   "outputs": [
    {
     "name": "stdin",
     "output_type": "stream",
     "text": [
      "Enter number: 12\n",
      "Enter number: 23\n"
     ]
    },
    {
     "name": "stdout",
     "output_type": "stream",
     "text": [
      "b is greater\n"
     ]
    }
   ],
   "source": [
    "a=int(input(\"Enter number:\"))\n",
    "b=int(input(\"Enter number:\"))\n",
    "if(a>b):\n",
    "    print(\"a is greater\")\n",
    "else:\n",
    "    print(\"b is greater\")"
   ]
  },
  {
   "cell_type": "code",
   "execution_count": 53,
   "id": "7709a9f3-63af-45ec-b0b4-a1c37228e5ed",
   "metadata": {},
   "outputs": [
    {
     "name": "stdin",
     "output_type": "stream",
     "text": [
      "Enter number: 12\n"
     ]
    },
    {
     "name": "stdout",
     "output_type": "stream",
     "text": [
      "Even\n"
     ]
    }
   ],
   "source": [
    "a=int(input(\"Enter number:\"))\n",
    "if a%2==0:\n",
    "    print(\"Even\")\n",
    "else:\n",
    "    print(\"Odd\")"
   ]
  },
  {
   "cell_type": "code",
   "execution_count": 59,
   "id": "85594e07-905a-4d25-9bb7-8ee44f148279",
   "metadata": {},
   "outputs": [
    {
     "name": "stdin",
     "output_type": "stream",
     "text": [
      "Enter number: 12\n"
     ]
    },
    {
     "name": "stdout",
     "output_type": "stream",
     "text": [
      "Not a Prime\n"
     ]
    }
   ],
   "source": [
    "n=int(input(\"Enter number:\"))\n",
    "f=0\n",
    "for i in range(2,n//2+1):\n",
    "    if n%2==0:\n",
    "        f=1\n",
    "        break\n",
    "if f==0:\n",
    "    print(\"Prime\")\n",
    "else:\n",
    "    print(\"Not a Prime\")\n",
    "        "
   ]
  },
  {
   "cell_type": "code",
   "execution_count": 61,
   "id": "6acde8ae-dbdd-462d-acc0-65a0e893c9c8",
   "metadata": {},
   "outputs": [
    {
     "name": "stdin",
     "output_type": "stream",
     "text": [
      "Enter first:  priyam\n",
      "Enter second:  chaudhary\n"
     ]
    },
    {
     "name": "stdout",
     "output_type": "stream",
     "text": [
      "priyam  is greater\n"
     ]
    }
   ],
   "source": [
    "a=input(\"Enter first: \")\n",
    "b=input(\"Enter second: \")\n",
    "if a==b:\n",
    "    print(\"Equal\")\n",
    "elif a>=b:\n",
    "    print(a,\" is greater\")\n",
    "else:\n",
    "    print(b,\"is greater\")"
   ]
  },
  {
   "cell_type": "code",
   "execution_count": 63,
   "id": "03e79d66-e6f9-4c62-8f9e-8d78729796e2",
   "metadata": {},
   "outputs": [
    {
     "data": {
      "text/plain": [
       "23"
      ]
     },
     "execution_count": 63,
     "metadata": {},
     "output_type": "execute_result"
    }
   ],
   "source": [
    "a=12\n",
    "b=23\n",
    "c=1\n",
    "max(a,b,c)"
   ]
  },
  {
   "cell_type": "code",
   "execution_count": 65,
   "id": "1e80c0e5-3e21-4c58-933b-7182ead7d931",
   "metadata": {},
   "outputs": [
    {
     "name": "stdin",
     "output_type": "stream",
     "text": [
      "Enter Number :  15\n"
     ]
    },
    {
     "name": "stdout",
     "output_type": "stream",
     "text": [
      "0\n"
     ]
    }
   ],
   "source": [
    "n=int(input(\"Enter Number : \"))\n",
    "s=0\n",
    "for i in range(1,n+1):\n",
    "    if i%7==0 and i%9==0:\n",
    "        s=s+i\n",
    "print(s)        "
   ]
  },
  {
   "cell_type": "code",
   "execution_count": 29,
   "id": "1322a247-8521-42ec-af3f-2fedc588b70c",
   "metadata": {},
   "outputs": [
    {
     "ename": "IndentationError",
     "evalue": "unindent does not match any outer indentation level (<string>, line 9)",
     "output_type": "error",
     "traceback": [
      "\u001b[1;36m  File \u001b[1;32m<string>:9\u001b[1;36m\u001b[0m\n\u001b[1;33m    if f==0:\u001b[0m\n\u001b[1;37m            ^\u001b[0m\n\u001b[1;31mIndentationError\u001b[0m\u001b[1;31m:\u001b[0m unindent does not match any outer indentation level\n"
     ]
    }
   ],
   "source": [
    "n=int(input(\"Enter Number: \"))\n",
    "s=0\n",
    "for j in range(1,n+1):\n",
    "    f=0\n",
    "    for i in range(2,n//2+1):\n",
    "        if n%i==0:\n",
    "            f=1\n",
    "            break\n",
    "       if f==0:\n",
    "         s=s+j\n",
    "print(s)         "
   ]
  },
  {
   "cell_type": "code",
   "execution_count": 1,
   "id": "903d23cf-5532-4449-8643-9601f2f24ce0",
   "metadata": {},
   "outputs": [
    {
     "name": "stdout",
     "output_type": "stream",
     "text": [
      "30\n"
     ]
    }
   ],
   "source": [
    "def add(a,b):\n",
    "    c=a+b\n",
    "    return c\n",
    "print(add(10,20))    "
   ]
  },
  {
   "cell_type": "code",
   "execution_count": 16,
   "id": "948cc22d-e068-45c4-a240-7e064355c3c4",
   "metadata": {},
   "outputs": [
    {
     "name": "stdout",
     "output_type": "stream",
     "text": [
      "0\n",
      "1\n"
     ]
    }
   ],
   "source": [
    "def isPrime(n):\n",
    "    for i in range(2,n//2+1):\n",
    "        if n%i==0:\n",
    "            return 0\n",
    "    return 1\n",
    "\n",
    "print(isPrime(10))\n",
    "print(isPrime(29))"
   ]
  },
  {
   "cell_type": "code",
   "execution_count": 18,
   "id": "88f8f1f1-c4ed-4c35-95ba-be94d8cc764b",
   "metadata": {},
   "outputs": [
    {
     "name": "stdout",
     "output_type": "stream",
     "text": [
      "55\n"
     ]
    }
   ],
   "source": [
    "def addN(n):\n",
    "    s=sum(range(1,n+1))\n",
    "    return s\n",
    "print(addN(10))    "
   ]
  },
  {
   "cell_type": "code",
   "execution_count": 22,
   "id": "9e3af853-e1fe-44dc-9154-826963f46cd4",
   "metadata": {},
   "outputs": [
    {
     "name": "stdin",
     "output_type": "stream",
     "text": [
      "Enter number  10\n"
     ]
    },
    {
     "name": "stdout",
     "output_type": "stream",
     "text": [
      "25\n"
     ]
    }
   ],
   "source": [
    "def addOdd(n):\n",
    "    s=0;\n",
    "    for i in range(1,n+1):\n",
    "        if i%2!=0:\n",
    "            s=s+i\n",
    "    return s\n",
    "n=int(input(\"Enter number \"))    \n",
    "print(addOdd(n))"
   ]
  },
  {
   "cell_type": "code",
   "execution_count": 36,
   "id": "b771e0ae-c34a-4cc7-958e-21f073a066c0",
   "metadata": {},
   "outputs": [
    {
     "name": "stdin",
     "output_type": "stream",
     "text": [
      "Enter number  10\n"
     ]
    },
    {
     "name": "stdout",
     "output_type": "stream",
     "text": [
      "17\n"
     ]
    }
   ],
   "source": [
    "def isPrime(n):\n",
    "    for i in range(2,n//2+1):\n",
    "        if n%i==0:\n",
    "            return 0\n",
    "    return 1\n",
    "def addPrime(a):\n",
    "    s=0\n",
    "    for i in range(2,a+1):\n",
    "        if isPrime(i):\n",
    "            s=s+i\n",
    "    return s          \n",
    "n=int(input(\"Enter number \"))\n",
    "print(addPrime(n))\n",
    "               "
   ]
  },
  {
   "cell_type": "code",
   "execution_count": 48,
   "id": "f47c38c6-d112-46f8-8581-e8436466d059",
   "metadata": {},
   "outputs": [
    {
     "name": "stdout",
     "output_type": "stream",
     "text": [
      "2.0\n",
      "-0.9880316240928618\n",
      "-0.9524129804151563\n",
      "16.0\n",
      "15\n",
      "15\n"
     ]
    }
   ],
   "source": [
    "import math as m\n",
    "print(m.log(100,10))\n",
    "print(m.sin(30))\n",
    "print(m.cos(60))\n",
    "print(m.sqrt(256))\n",
    "print(m.ceil(14.99))\n",
    "print(m.floor(15.88))"
   ]
  },
  {
   "cell_type": "code",
   "execution_count": 74,
   "id": "ced127b5-ce3d-454d-a4bf-c81ba0690024",
   "metadata": {},
   "outputs": [
    {
     "name": "stdout",
     "output_type": "stream",
     "text": [
      "H\n",
      "ello\n",
      "ello W\n",
      "Hello \n",
      "Hell\n",
      "H\n",
      "11\n",
      "HELLO WORLD\n",
      "hello world\n",
      "1\n",
      "dlroW olleH\n"
     ]
    }
   ],
   "source": [
    "var='Hello World'\n",
    "print(var[0])\n",
    "print(var[1:5])\n",
    "print(var[1:7])\n",
    "print(var[:-5])\n",
    "print(var[:-7])\n",
    "print(var[:-10])\n",
    "print(len(var))\n",
    "print(var.upper())\n",
    "print(var.lower())\n",
    "print(var.count('H'))\n",
    "print(var[::-1])"
   ]
  },
  {
   "cell_type": "code",
   "execution_count": 68,
   "id": "cc2cc5b7-3f88-41ae-b760-c1238f3ea32a",
   "metadata": {},
   "outputs": [
    {
     "name": "stdin",
     "output_type": "stream",
     "text": [
      "Enter your name: priyam\n",
      "Enter age: 21\n",
      "Enter book price: 1234\n"
     ]
    },
    {
     "name": "stdout",
     "output_type": "stream",
     "text": [
      "Your name is PRIYAM,Your age is 21,Book price is 1234.000000\n"
     ]
    }
   ],
   "source": [
    "name=input(\"Enter your name:\")\n",
    "age=int(input(\"Enter age:\"))\n",
    "price=float(input(\"Enter book price:\"))\n",
    "s=\"Your name is %s,Your age is %d,Book price is %f\"%(name.upper(),age,price)\n",
    "print(s)\n"
   ]
  },
  {
   "cell_type": "code",
   "execution_count": 78,
   "id": "0481c789-a1fc-414c-a824-9d6730cbba93",
   "metadata": {},
   "outputs": [
    {
     "name": "stdout",
     "output_type": "stream",
     "text": [
      "False\n",
      "True\n"
     ]
    }
   ],
   "source": [
    "s1='Indian Army'\n",
    "s2='madam'\n",
    "print(s1==s1[::-1])\n",
    "print(s2==s2[::-1])"
   ]
  },
  {
   "cell_type": "code",
   "execution_count": 94,
   "id": "4536deff-8a99-433c-8c9f-691508bf9217",
   "metadata": {},
   "outputs": [
    {
     "name": "stdout",
     "output_type": "stream",
     "text": [
      "0.19630533168315645\n",
      "0.4928697951841575\n",
      "0.0257\n",
      "96\n",
      "61.69962095519733\n",
      "-7.983913781299697\n",
      "39.58\n"
     ]
    }
   ],
   "source": [
    "import random as r\n",
    "print(r.random())\n",
    "print(r.random())\n",
    "print(round(r.random(),4))\n",
    "print(r.randint(1,100))\n",
    "print(r.uniform(1,100))\n",
    "print(r.uniform(-10,-2))\n",
    "print(round(r.uniform(2,70),2))\n"
   ]
  },
  {
   "cell_type": "code",
   "execution_count": 98,
   "id": "0d166f85-bb96-4b2b-b99a-d79a743670af",
   "metadata": {},
   "outputs": [
    {
     "name": "stdout",
     "output_type": "stream",
     "text": [
      "[2, 4]\n",
      "[7, 6]\n"
     ]
    }
   ],
   "source": [
    "import random as r\n",
    "A=[1,2,3,4,5]\n",
    "print(r.sample(A,2))\n",
    "print(r.sample(range(1,10),2))"
   ]
  },
  {
   "cell_type": "code",
   "execution_count": 100,
   "id": "5b0068a5-16f5-4a9d-805f-ecec36ecbd37",
   "metadata": {},
   "outputs": [
    {
     "ename": "AttributeError",
     "evalue": "'str' object has no attribute 'ascii_letters'",
     "output_type": "error",
     "traceback": [
      "\u001b[1;31m---------------------------------------------------------------------------\u001b[0m",
      "\u001b[1;31mAttributeError\u001b[0m                            Traceback (most recent call last)",
      "Cell \u001b[1;32mIn[100], line 3\u001b[0m\n\u001b[0;32m      1\u001b[0m \u001b[38;5;28;01mimport\u001b[39;00m \u001b[38;5;21;01mstring\u001b[39;00m \u001b[38;5;28;01mas\u001b[39;00m \u001b[38;5;21;01mr\u001b[39;00m\n\u001b[0;32m      2\u001b[0m \u001b[38;5;28;01mimport\u001b[39;00m \u001b[38;5;21;01mrandom\u001b[39;00m \u001b[38;5;28;01mas\u001b[39;00m \u001b[38;5;21;01mr\u001b[39;00m\n\u001b[1;32m----> 3\u001b[0m \u001b[38;5;28mprint\u001b[39m(s\u001b[38;5;241m.\u001b[39mascii_letters)\n\u001b[0;32m      4\u001b[0m \u001b[38;5;28mprint\u001b[39m(r\u001b[38;5;241m.\u001b[39msample(s\u001b[38;5;241m.\u001b[39mascii_letters,\u001b[38;5;241m6\u001b[39m))\n",
      "\u001b[1;31mAttributeError\u001b[0m: 'str' object has no attribute 'ascii_letters'"
     ]
    }
   ],
   "source": [
    "import string as r\n",
    "import random as r\n",
    "print(s.ascii_letters)\n",
    "print(r.sample(s.ascii_letters,6))\n"
   ]
  },
  {
   "cell_type": "code",
   "execution_count": 1,
   "id": "85cd53b2-8941-406e-a084-a4ec01d91186",
   "metadata": {},
   "outputs": [
    {
     "name": "stdout",
     "output_type": "stream",
     "text": [
      "-50.0\n",
      "-100.0\n",
      "Error\n",
      "100.0\n",
      "50.0\n",
      "33.333333333333336\n",
      "25.0\n",
      "20.0\n"
     ]
    }
   ],
   "source": [
    "for i in range(-2,6):\n",
    "    try:\n",
    "        print(100/i)\n",
    "    except:\n",
    "        print(\"Error\")\n",
    "        "
   ]
  },
  {
   "cell_type": "code",
   "execution_count": 5,
   "id": "2ff1688f-87aa-4b3c-8fc2-98b54b4d7b68",
   "metadata": {},
   "outputs": [
    {
     "name": "stdin",
     "output_type": "stream",
     "text": [
      "Enter number: 0\n"
     ]
    },
    {
     "name": "stdout",
     "output_type": "stream",
     "text": [
      "error\n"
     ]
    }
   ],
   "source": [
    "n=int(input(\"Enter number:\"))\n",
    "try:\n",
    "    print(100/n)\n",
    "except:\n",
    "    print('error')"
   ]
  },
  {
   "cell_type": "code",
   "execution_count": 9,
   "id": "5078288f-8002-4e88-aef1-4eb5e95aa4fa",
   "metadata": {},
   "outputs": [
    {
     "name": "stdout",
     "output_type": "stream",
     "text": [
      "1\n",
      "2\n",
      "3\n",
      "4\n",
      "5\n",
      "6\n",
      "error\n",
      "error\n"
     ]
    }
   ],
   "source": [
    "L=[1,2,3,4,5,6]\n",
    "for i in range(8):\n",
    "    try:\n",
    "        print(L[i])\n",
    "    except:\n",
    "        print('error')"
   ]
  },
  {
   "cell_type": "code",
   "execution_count": 13,
   "id": "5503feac-e718-4486-a34a-7e6f930d9462",
   "metadata": {},
   "outputs": [
    {
     "name": "stdout",
     "output_type": "stream",
     "text": [
      "['Priyam', 'chaudhary', 10, 6, 2005]\n",
      "5\n"
     ]
    }
   ],
   "source": [
    "L=['Priyam','chaudhary',10,6,2005]\n",
    "print(L)\n",
    "print(len(L))"
   ]
  },
  {
   "cell_type": "code",
   "execution_count": 15,
   "id": "49839eab-3572-46a7-919a-c9a089b68a01",
   "metadata": {},
   "outputs": [
    {
     "name": "stdout",
     "output_type": "stream",
     "text": [
      "Priyam\n",
      "chaudhary\n",
      "10\n",
      "6\n",
      "2005\n"
     ]
    }
   ],
   "source": [
    "for i in L:\n",
    "    print(i)"
   ]
  },
  {
   "cell_type": "code",
   "execution_count": 23,
   "id": "61269b41-9b96-4c02-98f1-8874fe9a79d5",
   "metadata": {},
   "outputs": [
    {
     "name": "stdout",
     "output_type": "stream",
     "text": [
      "['Priyam', 10, 6, 2005, 'hello', 'hello', 'hello', 'hello']\n",
      "['Priyam', 6, 2005, 'hello', 'hello', 'hello', 'hello']\n"
     ]
    }
   ],
   "source": [
    "L.append('hello')\n",
    "print(L)\n",
    "del L[1]\n",
    "print(L)\n"
   ]
  },
  {
   "cell_type": "code",
   "execution_count": 35,
   "id": "36c3fefc-89d3-40db-8668-d4f9c6db743c",
   "metadata": {},
   "outputs": [
    {
     "name": "stdout",
     "output_type": "stream",
     "text": [
      "21\n",
      "3.5\n",
      "3\n",
      "1\n",
      "6\n",
      "[1, 2, 3, 4, 5, 6]\n",
      "[6, 5, 4, 3, 2, 1]\n"
     ]
    }
   ],
   "source": [
    "lis=[1,3,4,2,5,6]\n",
    "print(sum(lis))\n",
    "print(sum(list)/len(lis))\n",
    "print(sum(list)//len(lis))\n",
    "print(min(lis))\n",
    "print(max(lis))\n",
    "lis.sort()\n",
    "print(lis)\n",
    "lis.sort(reverse=True)\n",
    "print(lis)"
   ]
  },
  {
   "cell_type": "code",
   "execution_count": 37,
   "id": "3e1aa09e-86ac-4a06-a98c-c612f551057c",
   "metadata": {},
   "outputs": [
    {
     "name": "stdout",
     "output_type": "stream",
     "text": [
      "[1, 2, 3, 4]\n",
      "[7, 8, 9]\n",
      "[1, 2, 3, 4, 7, 8, 9]\n"
     ]
    }
   ],
   "source": [
    "l1=[1,2,3,4]\n",
    "l2=[7,8,9]\n",
    "l3=l1+l2\n",
    "print(l1)\n",
    "print(l2)\n",
    "print(l3)"
   ]
  },
  {
   "cell_type": "code",
   "execution_count": 39,
   "id": "021b16e2-9c18-4028-8809-2b4d86c7d7b6",
   "metadata": {},
   "outputs": [
    {
     "name": "stdout",
     "output_type": "stream",
     "text": [
      "[5, 10, 15, 20, 35, 40, 45]\n"
     ]
    }
   ],
   "source": [
    "newl3=[ i*5 for i in l3]\n",
    "print(newl3)"
   ]
  },
  {
   "cell_type": "code",
   "execution_count": 43,
   "id": "6b575e37-c52a-4feb-9930-1fd0177f156c",
   "metadata": {},
   "outputs": [
    {
     "name": "stdout",
     "output_type": "stream",
     "text": [
      "Not present\n",
      "Present\n"
     ]
    }
   ],
   "source": [
    "if(6 in l3)==True:\n",
    "    print(\"Present\")\n",
    "else:\n",
    "    print(\"Not present\")\n",
    "\n",
    "if(4 in l3)==False:\n",
    "    print(\"Not present\")\n",
    "else:\n",
    "    print(\"Present\")"
   ]
  },
  {
   "cell_type": "code",
   "execution_count": 45,
   "id": "c9c802df-58c6-4e46-902f-88942959b69a",
   "metadata": {},
   "outputs": [
    {
     "name": "stdout",
     "output_type": "stream",
     "text": [
      "bijnor\n"
     ]
    }
   ],
   "source": [
    "Home={'priyam':'bijnor','saksham':'meerut','anshika':'ganganagar'}\n",
    "print(Home['priyam'])"
   ]
  },
  {
   "cell_type": "code",
   "execution_count": 47,
   "id": "1376e52d-e527-4c35-ba86-38da7d97583c",
   "metadata": {},
   "outputs": [
    {
     "name": "stdout",
     "output_type": "stream",
     "text": [
      "bijnor\n",
      "meerut\n",
      "ganganagar\n"
     ]
    }
   ],
   "source": [
    "for d in Home:\n",
    "    print(Home[d])"
   ]
  },
  {
   "cell_type": "code",
   "execution_count": 49,
   "id": "c5d4e5d8-cfdc-4907-b136-590793063a41",
   "metadata": {},
   "outputs": [
    {
     "name": "stdout",
     "output_type": "stream",
     "text": [
      "('priyam', 1, 4, 7)\n",
      "4\n",
      "<class 'tuple'>\n"
     ]
    }
   ],
   "source": [
    "T=('priyam',1,4,7)\n",
    "print(T)\n",
    "print(len(T))\n",
    "print(type(T))"
   ]
  },
  {
   "cell_type": "code",
   "execution_count": 65,
   "id": "a1fa81f4-7101-4b5b-afa3-0d2121f23989",
   "metadata": {},
   "outputs": [
    {
     "name": "stdout",
     "output_type": "stream",
     "text": [
      "priyam\n",
      "1\n",
      "4\n",
      "7\n"
     ]
    }
   ],
   "source": [
    "i=0\n",
    "while i<len(T):\n",
    "    print(T[i])\n",
    "    i=i+1"
   ]
  },
  {
   "cell_type": "code",
   "execution_count": 71,
   "id": "2ec8ec9b-4f9b-4343-ab3c-1c813d9ffe69",
   "metadata": {},
   "outputs": [
    {
     "name": "stdout",
     "output_type": "stream",
     "text": [
      "priyam\n",
      "1\n",
      "4\n",
      "7\n"
     ]
    }
   ],
   "source": [
    "for i in range(0,len(T)):\n",
    "    print(T[i])\n",
    "    "
   ]
  },
  {
   "cell_type": "code",
   "execution_count": 73,
   "id": "72914b59-0ae6-4558-a4a1-79291eea5311",
   "metadata": {},
   "outputs": [
    {
     "name": "stdout",
     "output_type": "stream",
     "text": [
      "priyam\n",
      "1\n",
      "4\n",
      "7\n"
     ]
    }
   ],
   "source": [
    "for i in T:\n",
    "    print(i)\n",
    "    \n",
    "    "
   ]
  },
  {
   "cell_type": "code",
   "execution_count": 81,
   "id": "374bfad9-fcd9-456b-92fc-7ea08eac04c7",
   "metadata": {},
   "outputs": [
    {
     "name": "stdout",
     "output_type": "stream",
     "text": [
      "15\n",
      "3.0\n",
      "(1, 2, 3, 4, 5)\n",
      "False\n"
     ]
    }
   ],
   "source": [
    "T=(1,2,3,4,5)\n",
    "print(sum(T))\n",
    "print(sum(T)/len(T))\n",
    "print(T)\n",
    "print(6 in T)"
   ]
  },
  {
   "cell_type": "code",
   "execution_count": 87,
   "id": "e0486973-02b4-4296-9adc-98f954d4faa4",
   "metadata": {},
   "outputs": [
    {
     "name": "stdout",
     "output_type": "stream",
     "text": [
      "(1, 2, 3, 4, 5)\n"
     ]
    },
    {
     "ename": "TypeError",
     "evalue": "'list' object is not callable",
     "output_type": "error",
     "traceback": [
      "\u001b[1;31m---------------------------------------------------------------------------\u001b[0m",
      "\u001b[1;31mTypeError\u001b[0m                                 Traceback (most recent call last)",
      "Cell \u001b[1;32mIn[87], line 3\u001b[0m\n\u001b[0;32m      1\u001b[0m T\u001b[38;5;241m=\u001b[39m(\u001b[38;5;241m1\u001b[39m,\u001b[38;5;241m2\u001b[39m,\u001b[38;5;241m3\u001b[39m,\u001b[38;5;241m4\u001b[39m,\u001b[38;5;241m5\u001b[39m)\n\u001b[0;32m      2\u001b[0m \u001b[38;5;28mprint\u001b[39m(T)\n\u001b[1;32m----> 3\u001b[0m t1\u001b[38;5;241m=\u001b[39m\u001b[38;5;28mlist\u001b[39m(T)\n\u001b[0;32m      4\u001b[0m t1\u001b[38;5;241m.\u001b[39mappend(\u001b[38;5;241m23\u001b[39m)\n\u001b[0;32m      5\u001b[0m T\u001b[38;5;241m=\u001b[39m\u001b[38;5;28mtuple\u001b[39m(t1)\n",
      "\u001b[1;31mTypeError\u001b[0m: 'list' object is not callable"
     ]
    }
   ],
   "source": [
    "T=(1,2,3,4,5)\n",
    "print(T)\n",
    "t1=list(T)\n",
    "t1.append(23)\n",
    "T=tuple(t1)\n",
    "print(T)\n"
   ]
  },
  {
   "cell_type": "code",
   "execution_count": 89,
   "id": "3c548d80-7a02-4cb9-aa74-057f9bd15479",
   "metadata": {},
   "outputs": [
    {
     "name": "stdout",
     "output_type": "stream",
     "text": [
      "T            --> ('Pratham', 'Sharma', 3.14, 3)\n"
     ]
    },
    {
     "ename": "TypeError",
     "evalue": "'list' object is not callable",
     "output_type": "error",
     "traceback": [
      "\u001b[1;31m---------------------------------------------------------------------------\u001b[0m",
      "\u001b[1;31mTypeError\u001b[0m                                 Traceback (most recent call last)",
      "Cell \u001b[1;32mIn[89], line 4\u001b[0m\n\u001b[0;32m      1\u001b[0m T \u001b[38;5;241m=\u001b[39m (\u001b[38;5;124m\"\u001b[39m\u001b[38;5;124mPratham\u001b[39m\u001b[38;5;124m\"\u001b[39m, \u001b[38;5;124m'\u001b[39m\u001b[38;5;124mSharma\u001b[39m\u001b[38;5;124m'\u001b[39m, \u001b[38;5;241m3.14\u001b[39m, \u001b[38;5;241m3\u001b[39m)\n\u001b[0;32m      2\u001b[0m \u001b[38;5;28mprint\u001b[39m (\u001b[38;5;124m\"\u001b[39m\u001b[38;5;124mT            -->\u001b[39m\u001b[38;5;124m\"\u001b[39m, T)\n\u001b[1;32m----> 4\u001b[0m T1 \u001b[38;5;241m=\u001b[39m \u001b[38;5;28mlist\u001b[39m(T)\n\u001b[0;32m      5\u001b[0m T1\u001b[38;5;241m.\u001b[39minsert(\u001b[38;5;241m2\u001b[39m, \u001b[38;5;124m\"\u001b[39m\u001b[38;5;124mRahul\u001b[39m\u001b[38;5;124m\"\u001b[39m)\n\u001b[0;32m      6\u001b[0m T \u001b[38;5;241m=\u001b[39m \u001b[38;5;28mtuple\u001b[39m(T1)\n",
      "\u001b[1;31mTypeError\u001b[0m: 'list' object is not callable"
     ]
    }
   ],
   "source": [
    "T = (\"Pratham\", 'Sharma', 3.14, 3)\n",
    "print (\"T            -->\", T)\n",
    "\n",
    "T1 = list(T)\n",
    "T1.insert(2, \"Rahul\")\n",
    "T = tuple(T1)\n",
    "\n",
    "print (\"After Insert -->\", T)"
   ]
  },
  {
   "cell_type": "code",
   "execution_count": 107,
   "id": "423b0b83-8789-4638-968e-83dec75325da",
   "metadata": {},
   "outputs": [
    {
     "name": "stdout",
     "output_type": "stream",
     "text": [
      "{1, 2, 3, 4, 5}\n",
      "5\n",
      "{1, 2, 3, 4, 5, 6, 7, 9}\n",
      "{1, 2}\n",
      "{3, 4, 5}\n",
      "{3, 4, 5, 6, 7, 9}\n"
     ]
    }
   ],
   "source": [
    "a={1,2,3,4,5,2}\n",
    "b={1,2,7,6,9}\n",
    "   \n",
    "print(s)\n",
    "print(len(s))\n",
    "print(a.union(b))\n",
    "print(a.intersection(b))\n",
    "print(a.difference(b))\n",
    "print(a.symmetric_difference(b))"
   ]
  },
  {
   "cell_type": "code",
   "execution_count": 117,
   "id": "1f778e90-46ce-473a-a053-f8972c2a8fb8",
   "metadata": {},
   "outputs": [
    {
     "name": "stdout",
     "output_type": "stream",
     "text": [
      "{1, 2, 4, 5, 'D'}\n",
      "{2, 4, 5, 'D'}\n"
     ]
    }
   ],
   "source": [
    "(a.add(\"D\"))\n",
    "print(a)\n",
    "# a.remove(3)\n",
    "# print(a)\n",
    "a.pop()\n",
    "print(a)"
   ]
  },
  {
   "cell_type": "code",
   "execution_count": 121,
   "id": "8a72fe8e-f069-4088-9bc2-39c281cd1e6a",
   "metadata": {},
   "outputs": [
    {
     "name": "stdout",
     "output_type": "stream",
     "text": [
      "[10, 20, 30, 40, 50, 60, 70, 80, 200, 300]\n"
     ]
    }
   ],
   "source": [
    "L=[10,20,30,40,50,60,70,80]\n",
    "L.append(200)\n",
    "L.append(300)\n",
    "print(L)\n"
   ]
  },
  {
   "cell_type": "code",
   "execution_count": null,
   "id": "89c19bda-8b5d-40a1-9dee-5861c9b020e4",
   "metadata": {},
   "outputs": [],
   "source": []
  }
 ],
 "metadata": {
  "kernelspec": {
   "display_name": "Python [conda env:base] *",
   "language": "python",
   "name": "conda-base-py"
  },
  "language_info": {
   "codemirror_mode": {
    "name": "ipython",
    "version": 3
   },
   "file_extension": ".py",
   "mimetype": "text/x-python",
   "name": "python",
   "nbconvert_exporter": "python",
   "pygments_lexer": "ipython3",
   "version": "3.12.7"
  }
 },
 "nbformat": 4,
 "nbformat_minor": 5
}
