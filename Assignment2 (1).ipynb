{
 "cells": [
  {
   "cell_type": "code",
   "execution_count": 1,
   "id": "01ef716b-6e7b-478a-b017-73f41b3035cb",
   "metadata": {},
   "outputs": [
    {
     "name": "stdout",
     "output_type": "stream",
     "text": [
      "[10, 20, 30, 40, 50, 60, 70, 80, 200, 300]\n"
     ]
    }
   ],
   "source": [
    "L=[10,20,30,40,50,60,70,80]\n",
    "L.append(200)\n",
    "L.append(300)\n",
    "print(L)\n"
   ]
  },
  {
   "cell_type": "code",
   "execution_count": 3,
   "id": "9640978a-05f0-45f8-8877-a6588d19a725",
   "metadata": {},
   "outputs": [
    {
     "name": "stdout",
     "output_type": "stream",
     "text": [
      "[20, 30, 40, 50, 60, 70, 80, 200, 300]\n",
      "[20, 40, 50, 60, 70, 80, 200, 300]\n"
     ]
    }
   ],
   "source": [
    "L.remove(10)\n",
    "print(L)\n",
    "L.remove(30)\n",
    "print(L)"
   ]
  },
  {
   "cell_type": "code",
   "execution_count": 5,
   "id": "fb83f60a-53e4-45aa-a76c-3a6be89f9428",
   "metadata": {},
   "outputs": [
    {
     "name": "stdout",
     "output_type": "stream",
     "text": [
      "[20, 40, 50, 60, 70, 80, 200, 300]\n",
      "[300, 200, 80, 70, 60, 50, 40, 20]\n"
     ]
    }
   ],
   "source": [
    "L.sort()\n",
    "print(L)\n",
    "L.sort(reverse=True)\n",
    "print(L)"
   ]
  },
  {
   "cell_type": "code",
   "execution_count": 13,
   "id": "635f4011-6eaa-4000-83d1-ef2d1f2da6ab",
   "metadata": {},
   "outputs": [
    {
     "name": "stdout",
     "output_type": "stream",
     "text": [
      "5\n"
     ]
    }
   ],
   "source": [
    "T=(45,80.9,76,45.4,89,92,58,45)\n",
    "max(T)\n",
    "print(T.index(max(T)))"
   ]
  },
  {
   "cell_type": "code",
   "execution_count": 21,
   "id": "353075b0-b0a2-4553-b25e-c9199e4f8c01",
   "metadata": {},
   "outputs": [
    {
     "name": "stdout",
     "output_type": "stream",
     "text": [
      "2\n"
     ]
    },
    {
     "data": {
      "text/plain": [
       "45"
      ]
     },
     "execution_count": 21,
     "metadata": {},
     "output_type": "execute_result"
    }
   ],
   "source": [
    "y=min(T)\n",
    "p=T.count(y)\n",
    "print(p)\n",
    "min(T)"
   ]
  },
  {
   "cell_type": "code",
   "execution_count": 35,
   "id": "3eca35c6-81ce-4ce9-bddf-9adda9686ce4",
   "metadata": {},
   "outputs": [
    {
     "name": "stdout",
     "output_type": "stream",
     "text": [
      "(45, 58, 92, 89, 45.4, 76, 80.9, 45)\n",
      "[45, 80.9, 76, 45.4, 89, 92, 58, 45]\n"
     ]
    }
   ],
   "source": [
    "A=T[::-1]\n",
    "print(A)\n",
    "B=list(T)\n",
    "print(B)"
   ]
  },
  {
   "cell_type": "code",
   "execution_count": 49,
   "id": "9cf40396-a6ff-41cd-a977-44209c163076",
   "metadata": {},
   "outputs": [
    {
     "name": "stdin",
     "output_type": "stream",
     "text": [
      "Enter Number 32\n"
     ]
    },
    {
     "name": "stdout",
     "output_type": "stream",
     "text": [
      "not present\n",
      "Not found\n"
     ]
    }
   ],
   "source": [
    "n=int(input(\"Enter Number\"))\n",
    "if( n in T)==True:\n",
    "    print('present')\n",
    "else:\n",
    "    print('not present')\n",
    "\n",
    "try:\n",
    "    index1=T.index(n)\n",
    "    print(index1)\n",
    "except:\n",
    "    print(\"Not found\")\n",
    "    "
   ]
  },
  {
   "cell_type": "code",
   "execution_count": 69,
   "id": "32db1dab-562b-4128-91ed-06bc7e640c99",
   "metadata": {},
   "outputs": [
    {
     "name": "stdout",
     "output_type": "stream",
     "text": [
      "[201, 170, 636, 773, 682, 664, 391, 247, 353, 317, 404, 684, 106, 295, 277, 738, 237, 779, 631, 282, 712, 262, 753, 245, 484, 382, 108, 638, 238, 127, 322, 435, 718, 513, 132, 482, 877, 138, 188, 596, 822, 881, 365, 486, 421, 256, 171, 676, 243, 854, 769, 105, 163, 278, 850, 616, 629, 302, 699, 655, 879, 740, 538, 589, 160, 173, 520, 123, 491, 250, 372, 817, 189, 101, 772, 100, 732, 432, 338, 393, 321, 336, 285, 485, 637, 489, 585, 762, 266, 510, 335, 531, 810, 459, 648, 440, 827, 892, 780, 395]\n",
      "48\n",
      "52\n",
      "48\n"
     ]
    }
   ],
   "source": [
    "import random as r\n",
    "l=r.sample(range(100,900),100)\n",
    "print(l)\n",
    "oddCount=0\n",
    "evenCount=0\n",
    "primeCount=0\n",
    "def isPrime(n):\n",
    "    \n",
    "    for i in range(2,n//2+1):\n",
    "        if n%i==0:\n",
    "            return 0\n",
    "        else:\n",
    "            return 1\n",
    "for i in l:\n",
    "    if i%2!=0:\n",
    "        #print(i)\n",
    "        oddCount=oddCount+1\n",
    "    else:\n",
    "        #print(i)\n",
    "        evenCount=evenCount+1\n",
    "        \n",
    "    if isPrime(i):\n",
    "        #print(i)\n",
    "        primeCount=primeCount+1\n",
    "print(oddCount)\n",
    "print(evenCount)\n",
    "print(primeCount)\n",
    "    \n"
   ]
  },
  {
   "cell_type": "code",
   "execution_count": 79,
   "id": "5d71a126-f08b-4ecb-b6c6-6902e8a570d1",
   "metadata": {},
   "outputs": [
    {
     "name": "stdout",
     "output_type": "stream",
     "text": [
      "{34, 45, 78, 23, 56, 90}\n",
      "{90, 78}\n",
      "{34, 45, 23, 56}\n",
      "False\n",
      "False\n"
     ]
    }
   ],
   "source": [
    "A={34,56,78,90}\n",
    "B={78,45,90,23}\n",
    "print(A.union(B))\n",
    "print(A.intersection(B))\n",
    "print(A.symmetric_difference(B))\n",
    "print(A.issubset(B))\n",
    "print(B.issuperset(A))\n"
   ]
  },
  {
   "cell_type": "code",
   "execution_count": 87,
   "id": "20aa9e7b-6fa8-4db8-8e8a-fafa6dda6266",
   "metadata": {},
   "outputs": [
    {
     "name": "stdin",
     "output_type": "stream",
     "text": [
      "Enter X: 12\n"
     ]
    },
    {
     "name": "stdout",
     "output_type": "stream",
     "text": [
      "Not present in A\n"
     ]
    }
   ],
   "source": [
    "X=int(input(\"Enter X:\"))\n",
    "if X in A:\n",
    "      A.remove(X)\n",
    "      print(A)\n",
    "else:\n",
    "      print(\"Not present in A\")\n"
   ]
  },
  {
   "cell_type": "code",
   "execution_count": 99,
   "id": "ccf57c54-f1dc-4fd1-aa6d-3ebd3ece6f3a",
   "metadata": {},
   "outputs": [
    {
     "name": "stdout",
     "output_type": "stream",
     "text": [
      "kelly\n",
      "{'name': 'kelly', 'age': 25, 'salary': 8000, 'location': 'new york'}\n"
     ]
    }
   ],
   "source": [
    "dict={'name':'kelly','age':25,'salary':8000,'city':'new york'}\n",
    "print(dict['name'])\n",
    "dict['location']=dict.pop('city')\n",
    "print(dict)"
   ]
  },
  {
   "cell_type": "code",
   "execution_count": null,
   "id": "713cd600-3d5f-438c-ad3d-a38a7cec9e2f",
   "metadata": {},
   "outputs": [],
   "source": []
  }
 ],
 "metadata": {
  "kernelspec": {
   "display_name": "Python [conda env:base] *",
   "language": "python",
   "name": "conda-base-py"
  },
  "language_info": {
   "codemirror_mode": {
    "name": "ipython",
    "version": 3
   },
   "file_extension": ".py",
   "mimetype": "text/x-python",
   "name": "python",
   "nbconvert_exporter": "python",
   "pygments_lexer": "ipython3",
   "version": "3.12.7"
  }
 },
 "nbformat": 4,
 "nbformat_minor": 5
}
