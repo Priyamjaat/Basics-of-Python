{
 "cells": [
  {
   "cell_type": "code",
   "execution_count": 11,
   "id": "31af97b9-31b0-482b-9f1c-40fecc993920",
   "metadata": {},
   "outputs": [
    {
     "data": {
      "text/plain": [
       "array([0, 1, 2, 3, 4])"
      ]
     },
     "execution_count": 11,
     "metadata": {},
     "output_type": "execute_result"
    }
   ],
   "source": [
    "import numpy as np\n",
    "arr=np.array([0,1,2,3,4])\n",
    "arr.size\n",
    "arr.dtype\n",
    "arr.shape:(5,)\n",
    "arr"
   ]
  },
  {
   "cell_type": "code",
   "execution_count": 23,
   "id": "6d738688-3833-45b3-b3b4-a8d7703c5564",
   "metadata": {},
   "outputs": [
    {
     "data": {
      "text/plain": [
       "[2, 3, 4, 5, 6]"
      ]
     },
     "execution_count": 23,
     "metadata": {},
     "output_type": "execute_result"
    }
   ],
   "source": [
    "c=[]\n",
    "for i in range(len(arr)):\n",
    "    c.append(i+2)\n",
    "c    "
   ]
  },
  {
   "cell_type": "code",
   "execution_count": 19,
   "id": "ad5ac015-4130-4f7d-a8dd-671e1126d32d",
   "metadata": {},
   "outputs": [
    {
     "data": {
      "text/plain": [
       "[0, 2, 4, 6, 8]"
      ]
     },
     "execution_count": 19,
     "metadata": {},
     "output_type": "execute_result"
    }
   ],
   "source": [
    "d=[]\n",
    "for i in range(len(arr)):\n",
    "    d.append(i*2)\n",
    "d    "
   ]
  },
  {
   "cell_type": "code",
   "execution_count": 25,
   "id": "4d116366-2b6a-4a88-a668-948b821c8b3d",
   "metadata": {},
   "outputs": [
    {
     "data": {
      "text/plain": [
       "[0.0, 0.5, 1.0, 1.5, 2.0]"
      ]
     },
     "execution_count": 25,
     "metadata": {},
     "output_type": "execute_result"
    }
   ],
   "source": [
    "e=[]\n",
    "for i in range(len(arr)):\n",
    "    e.append(i/2)\n",
    "e    "
   ]
  },
  {
   "cell_type": "code",
   "execution_count": 29,
   "id": "2c7b3394-8099-4bf3-90f1-9045d64e5a97",
   "metadata": {},
   "outputs": [
    {
     "data": {
      "text/plain": [
       "array([5, 4, 6, 3, 2, 1])"
      ]
     },
     "execution_count": 29,
     "metadata": {},
     "output_type": "execute_result"
    }
   ],
   "source": [
    "import numpy as np\n",
    "arr=np.array([1,2,3,6,4,5])\n",
    "rev_arr=arr[::-1]\n",
    "rev_arr"
   ]
  },
  {
   "cell_type": "code",
   "execution_count": 31,
   "id": "f6fd1ceb-783e-489b-80d6-50e3a0d7cffd",
   "metadata": {},
   "outputs": [
    {
     "name": "stdout",
     "output_type": "stream",
     "text": [
      "Most frequent value:  1 Indices:  [0 5 7 8 9]\n"
     ]
    }
   ],
   "source": [
    "x=np.array([1,2,3,4,5,1,2,1,1,1])\n",
    "def most_frequent_value(arr):\n",
    "    unique_values,counts=np.unique(arr,return_counts=True)\n",
    "    max_count=np.max(counts)\n",
    "    most_frequent=unique_values[np.argmax(counts)]\n",
    "    indices=np.where(arr==most_frequent)[0]\n",
    "    return most_frequent,indices\n",
    "\n",
    "most_frequent_x,indices_x=most_frequent_value(x)\n",
    "print(\"Most frequent value: \",most_frequent_x,\"Indices: \",indices_x)"
   ]
  },
  {
   "cell_type": "code",
   "execution_count": 33,
   "id": "db45cdf0-58d2-4a12-92ff-d39fb657ac8c",
   "metadata": {},
   "outputs": [
    {
     "name": "stdout",
     "output_type": "stream",
     "text": [
      "Most frequent value:  1 Indices:  [0 1 2]\n"
     ]
    }
   ],
   "source": [
    "y=np.array([1,1,1,2,3,4,2,4,3,3])\n",
    "most_frequent_y,indices_y=most_frequent_value(y)\n",
    "print(\"Most frequent value: \",most_frequent_y,\"Indices: \",indices_y)"
   ]
  },
  {
   "cell_type": "code",
   "execution_count": 39,
   "id": "868f266a-bd67-4255-ae2e-38eff83ecbff",
   "metadata": {},
   "outputs": [
    {
     "name": "stdout",
     "output_type": "stream",
     "text": [
      "20\n"
     ]
    }
   ],
   "source": [
    "arr=np.array([[10,20,30],[40,50,60],[70,80,90]])\n",
    "print(arr[0][1])"
   ]
  },
  {
   "cell_type": "code",
   "execution_count": 41,
   "id": "aac9afac-f3fc-4c44-95a6-3ae7c58de9aa",
   "metadata": {},
   "outputs": [
    {
     "name": "stdout",
     "output_type": "stream",
     "text": [
      "70\n"
     ]
    }
   ],
   "source": [
    "print(arr[2][0])"
   ]
  },
  {
   "cell_type": "code",
   "execution_count": 45,
   "id": "40e2333f-c5ea-413b-89ba-d4464578513a",
   "metadata": {},
   "outputs": [
    {
     "name": "stdout",
     "output_type": "stream",
     "text": [
      "[ 10.    13.75  17.5   21.25  25.    28.75  32.5   36.25  40.    43.75\n",
      "  47.5   51.25  55.    58.75  62.5   66.25  70.    73.75  77.5   81.25\n",
      "  85.    88.75  92.5   96.25 100.  ]\n"
     ]
    }
   ],
   "source": [
    "priyam=np.linspace(10,100,25)\n",
    "print(priyam)"
   ]
  },
  {
   "cell_type": "code",
   "execution_count": 47,
   "id": "6ce328c7-08e5-47af-94ef-440e46aa2255",
   "metadata": {},
   "outputs": [
    {
     "name": "stdout",
     "output_type": "stream",
     "text": [
      "1\n"
     ]
    }
   ],
   "source": [
    "print(priyam.ndim)"
   ]
  },
  {
   "cell_type": "code",
   "execution_count": 49,
   "id": "8368a942-bb40-4fa1-849e-b51438505a46",
   "metadata": {},
   "outputs": [
    {
     "name": "stdout",
     "output_type": "stream",
     "text": [
      "(25,)\n"
     ]
    }
   ],
   "source": [
    "print(priyam.shape)"
   ]
  },
  {
   "cell_type": "code",
   "execution_count": 51,
   "id": "47e92b43-f70b-44af-867d-beeec5471abc",
   "metadata": {},
   "outputs": [
    {
     "name": "stdout",
     "output_type": "stream",
     "text": [
      "25\n"
     ]
    }
   ],
   "source": [
    "print(priyam.size)"
   ]
  },
  {
   "cell_type": "code",
   "execution_count": 53,
   "id": "0a95982a-0e06-4900-862f-fb0625c07b1d",
   "metadata": {},
   "outputs": [
    {
     "name": "stdout",
     "output_type": "stream",
     "text": [
      "float64\n"
     ]
    }
   ],
   "source": [
    "print(priyam.dtype)"
   ]
  },
  {
   "cell_type": "code",
   "execution_count": 55,
   "id": "85a978ba-6c64-4a5b-a77b-3fd9c8c7d44a",
   "metadata": {},
   "outputs": [
    {
     "name": "stdout",
     "output_type": "stream",
     "text": [
      "200\n"
     ]
    }
   ],
   "source": [
    "print(priyam.nbytes)"
   ]
  },
  {
   "cell_type": "code",
   "execution_count": 63,
   "id": "f36f40c5-a2e4-472a-8d64-9a1fcea9b455",
   "metadata": {},
   "outputs": [
    {
     "name": "stdout",
     "output_type": "stream",
     "text": [
      "[[ 10.  ]\n",
      " [ 13.75]\n",
      " [ 17.5 ]\n",
      " [ 21.25]\n",
      " [ 25.  ]\n",
      " [ 28.75]\n",
      " [ 32.5 ]\n",
      " [ 36.25]\n",
      " [ 40.  ]\n",
      " [ 43.75]\n",
      " [ 47.5 ]\n",
      " [ 51.25]\n",
      " [ 55.  ]\n",
      " [ 58.75]\n",
      " [ 62.5 ]\n",
      " [ 66.25]\n",
      " [ 70.  ]\n",
      " [ 73.75]\n",
      " [ 77.5 ]\n",
      " [ 81.25]\n",
      " [ 85.  ]\n",
      " [ 88.75]\n",
      " [ 92.5 ]\n",
      " [ 96.25]\n",
      " [100.  ]]\n"
     ]
    }
   ],
   "source": [
    "priyam_reshaped=priyam.reshape(25,1)\n",
    "print(priyam_reshaped)"
   ]
  },
  {
   "cell_type": "code",
   "execution_count": 65,
   "id": "00180ba4-a754-4da5-93af-a05c89022614",
   "metadata": {},
   "outputs": [
    {
     "name": "stdout",
     "output_type": "stream",
     "text": [
      "[ 10.    13.75  17.5   21.25  25.    28.75  32.5   36.25  40.    43.75\n",
      "  47.5   51.25  55.    58.75  62.5   66.25  70.    73.75  77.5   81.25\n",
      "  85.    88.75  92.5   96.25 100.  ]\n"
     ]
    }
   ],
   "source": [
    "priyam_T=priyam.T\n",
    "print(priyam_T)"
   ]
  },
  {
   "cell_type": "code",
   "execution_count": 67,
   "id": "fed14cd0-7198-40c1-bace-6ac2c798774d",
   "metadata": {},
   "outputs": [
    {
     "name": "stdout",
     "output_type": "stream",
     "text": [
      "T does not change the 1D array\n"
     ]
    }
   ],
   "source": [
    "if np.array_equal(priyam,priyam_T):\n",
    "    print(\"T does not change the 1D array\")\n",
    "else:\n",
    "    print(\"T works for transposing\")"
   ]
  },
  {
   "cell_type": "code",
   "execution_count": 69,
   "id": "4831c1d5-6daa-4d2f-af73-9efe686eca0c",
   "metadata": {},
   "outputs": [
    {
     "name": "stdout",
     "output_type": "stream",
     "text": [
      "[[10 20 30 40]\n",
      " [50 60 70 80]\n",
      " [90 15 20 35]]\n"
     ]
    }
   ],
   "source": [
    "ucs420=np.array([[10,20,30,40],[50,60,70,80],[90,15,20,35]])\n",
    "print(ucs420)"
   ]
  },
  {
   "cell_type": "code",
   "execution_count": 71,
   "id": "4fc4e60d-0e97-41b5-a3cb-2659faee63a0",
   "metadata": {},
   "outputs": [
    {
     "name": "stdout",
     "output_type": "stream",
     "text": [
      "43.333333333333336\n"
     ]
    }
   ],
   "source": [
    "mean_value=np.mean(ucs420)\n",
    "print(mean_value)"
   ]
  },
  {
   "cell_type": "code",
   "execution_count": 73,
   "id": "e3f460c2-043d-4893-9919-57f22ac61b76",
   "metadata": {},
   "outputs": [
    {
     "name": "stdout",
     "output_type": "stream",
     "text": [
      "37.5\n"
     ]
    }
   ],
   "source": [
    "median_value=np.median(ucs420)\n",
    "print(median_value)"
   ]
  },
  {
   "cell_type": "code",
   "execution_count": 75,
   "id": "c0b10444-0585-4d45-946a-d05b0d2e9349",
   "metadata": {},
   "outputs": [
    {
     "name": "stdout",
     "output_type": "stream",
     "text": [
      "90\n"
     ]
    }
   ],
   "source": [
    "max_value=np.max(ucs420)\n",
    "print(max_value)"
   ]
  },
  {
   "cell_type": "code",
   "execution_count": 79,
   "id": "e74bb4bf-3b55-47ed-bc75-968357133812",
   "metadata": {},
   "outputs": [
    {
     "name": "stdout",
     "output_type": "stream",
     "text": [
      "10\n"
     ]
    }
   ],
   "source": [
    "min_value=np.min(ucs420)\n",
    "print(min_value)"
   ]
  },
  {
   "cell_type": "code",
   "execution_count": 81,
   "id": "a4385e22-cbdb-4272-bc18-64fa018bec41",
   "metadata": {},
   "outputs": [
    {
     "name": "stdout",
     "output_type": "stream",
     "text": [
      "[10 15 20 30 35 40 50 60 70 80 90]\n"
     ]
    }
   ],
   "source": [
    "unique_element=np.unique(ucs420)\n",
    "print(unique_element)"
   ]
  },
  {
   "cell_type": "code",
   "execution_count": 87,
   "id": "d18c062f-9c19-49b5-8c8f-e85ac1bb7b12",
   "metadata": {},
   "outputs": [
    {
     "name": "stdout",
     "output_type": "stream",
     "text": [
      "[[10 20 30]\n",
      " [40 50 60]\n",
      " [70 80 90]\n",
      " [15 20 35]]\n"
     ]
    }
   ],
   "source": [
    "reshaped_ucs420=np.reshape(ucs420,(4,3))\n",
    "print(reshaped_ucs420)"
   ]
  },
  {
   "cell_type": "code",
   "execution_count": 85,
   "id": "01f40690-f5fe-479f-8f75-ec309dc091d4",
   "metadata": {},
   "outputs": [
    {
     "name": "stdout",
     "output_type": "stream",
     "text": [
      "[[10 20 30]\n",
      " [40 50 60]]\n"
     ]
    }
   ],
   "source": [
    "resized_ucs420=np.resize(ucs420,(2,3))\n",
    "print(resized_ucs420)"
   ]
  },
  {
   "cell_type": "code",
   "execution_count": 89,
   "id": "22d43689-430b-44e4-8738-fbe9250a7ffa",
   "metadata": {},
   "outputs": [
    {
     "name": "stdout",
     "output_type": "stream",
     "text": [
      "[[10 20 30]\n",
      " [40 50 60]\n",
      " [70 80 90]\n",
      " [15 20 35]]\n"
     ]
    }
   ],
   "source": [
    "reshaped_ucs420=ucs420.reshape(4,3)\n",
    "print(reshaped_ucs420)"
   ]
  },
  {
   "cell_type": "code",
   "execution_count": null,
   "id": "37c13a4b-f18d-45e9-b265-e3497d656ba4",
   "metadata": {},
   "outputs": [],
   "source": []
  }
 ],
 "metadata": {
  "kernelspec": {
   "display_name": "Python 3 (ipykernel)",
   "language": "python",
   "name": "python3"
  },
  "language_info": {
   "codemirror_mode": {
    "name": "ipython",
    "version": 3
   },
   "file_extension": ".py",
   "mimetype": "text/x-python",
   "name": "python",
   "nbconvert_exporter": "python",
   "pygments_lexer": "ipython3",
   "version": "3.11.7"
  }
 },
 "nbformat": 4,
 "nbformat_minor": 5
}
