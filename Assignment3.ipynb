{
 "cells": [
  {
   "cell_type": "code",
   "execution_count": 1,
   "id": "3fc4d78a-26d8-4477-9a1d-6420835add96",
   "metadata": {},
   "outputs": [
    {
     "name": "stdout",
     "output_type": "stream",
     "text": [
      "   Tid Refund MaritalStatus TaxableIncome Cheat\n",
      "0    1    yes        single          125k    no\n",
      "1    2     no       married          100k    no\n",
      "2    3     no        single           70k    no\n",
      "3    4    yes       married          120k    no\n",
      "4    5     no      divorced           95k   yes\n",
      "5    6     no       married           60k    no\n",
      "6    7    yes      divorced          220k    no\n",
      "7    8     no        single           85k   yes\n",
      "8    9     no       married           75k    no\n",
      "9   10     no        single           90k   yes\n"
     ]
    }
   ],
   "source": [
    "import pandas as pd\n",
    "dict={\n",
    "    \"Tid\":[1,2,3,4,5,6,7,8,9,10],\n",
    "    \"Refund\":['yes','no','no','yes','no','no','yes','no','no','no'],\n",
    "    \"MaritalStatus\":['single','married','single','married','divorced','married','divorced','single','married','single'],\n",
    "    \"TaxableIncome\":['125k','100k','70k','120k','95k','60k','220k','85k','75k','90k'],\n",
    "    \"Cheat\":['no','no','no','no','yes','no','no','yes','no','yes']\n",
    "}\n",
    "data=pd.DataFrame(dict)\n",
    "print(data)\n"
   ]
  },
  {
   "cell_type": "code",
   "execution_count": 3,
   "id": "bac8745a-0970-4dd4-ba4a-fc5d90209253",
   "metadata": {},
   "outputs": [
    {
     "name": "stdout",
     "output_type": "stream",
     "text": [
      "Tid                   1\n",
      "Refund              yes\n",
      "MaritalStatus    single\n",
      "TaxableIncome      125k\n",
      "Cheat                no\n",
      "Name: 0, dtype: object\n"
     ]
    }
   ],
   "source": [
    "print(data.loc[0])"
   ]
  },
  {
   "cell_type": "code",
   "execution_count": 5,
   "id": "58f87ff5-9329-43f0-a2e7-4c05349f2a5a",
   "metadata": {},
   "outputs": [
    {
     "name": "stdout",
     "output_type": "stream",
     "text": [
      "Tid                     5\n",
      "Refund                 no\n",
      "MaritalStatus    divorced\n",
      "TaxableIncome         95k\n",
      "Cheat                 yes\n",
      "Name: 4, dtype: object\n"
     ]
    }
   ],
   "source": [
    "print(data.loc[4])"
   ]
  },
  {
   "cell_type": "code",
   "execution_count": 7,
   "id": "dd127561-3eb7-44f8-bec8-0e784f8c27a2",
   "metadata": {},
   "outputs": [
    {
     "name": "stdout",
     "output_type": "stream",
     "text": [
      "Tid                   8\n",
      "Refund               no\n",
      "MaritalStatus    single\n",
      "TaxableIncome       85k\n",
      "Cheat               yes\n",
      "Name: 7, dtype: object\n"
     ]
    }
   ],
   "source": [
    "print(data.loc[7])"
   ]
  },
  {
   "cell_type": "code",
   "execution_count": 9,
   "id": "7d7b4a19-ba64-4842-9723-8905e77fd516",
   "metadata": {},
   "outputs": [
    {
     "name": "stdout",
     "output_type": "stream",
     "text": [
      "Tid                    9\n",
      "Refund                no\n",
      "MaritalStatus    married\n",
      "TaxableIncome        75k\n",
      "Cheat                 no\n",
      "Name: 8, dtype: object\n"
     ]
    }
   ],
   "source": [
    "print(data.loc[8])"
   ]
  },
  {
   "cell_type": "code",
   "execution_count": 11,
   "id": "8731bb70-8605-4ab2-9d67-3a931a874b48",
   "metadata": {},
   "outputs": [
    {
     "name": "stdout",
     "output_type": "stream",
     "text": [
      "   Tid Refund MaritalStatus TaxableIncome Cheat\n",
      "3    4    yes       married          120k    no\n",
      "4    5     no      divorced           95k   yes\n",
      "5    6     no       married           60k    no\n",
      "6    7    yes      divorced          220k    no\n",
      "7    8     no        single           85k   yes\n"
     ]
    }
   ],
   "source": [
    "print(data.loc[3:7])"
   ]
  },
  {
   "cell_type": "code",
   "execution_count": 15,
   "id": "5ef79b74-71b5-4305-9811-da4b3af21ecb",
   "metadata": {},
   "outputs": [
    {
     "name": "stdout",
     "output_type": "stream",
     "text": [
      "  MaritalStatus TaxableIncome\n",
      "4      divorced           95k\n",
      "5       married           60k\n",
      "6      divorced          220k\n",
      "7        single           85k\n"
     ]
    }
   ],
   "source": [
    "print(data.iloc[4:8,2:4])"
   ]
  },
  {
   "cell_type": "code",
   "execution_count": 17,
   "id": "7ed54cc3-0f44-4092-8551-e6162a9f6082",
   "metadata": {},
   "outputs": [
    {
     "name": "stdout",
     "output_type": "stream",
     "text": [
      "  MaritalStatus TaxableIncome Cheat\n",
      "4      divorced           95k   yes\n",
      "5       married           60k    no\n",
      "6      divorced          220k    no\n",
      "7        single           85k   yes\n",
      "8       married           75k    no\n"
     ]
    }
   ],
   "source": [
    "print(data.loc[4:8,'MaritalStatus':'Cheat'])"
   ]
  },
  {
   "cell_type": "code",
   "execution_count": 19,
   "id": "bd0dc7b1-b698-4b5e-bb60-812cdfbec915",
   "metadata": {},
   "outputs": [
    {
     "name": "stdout",
     "output_type": "stream",
     "text": [
      "  Refund MaritalStatus TaxableIncome\n",
      "0    yes        single          125k\n",
      "1     no       married          100k\n",
      "2     no        single           70k\n",
      "3    yes       married          120k\n",
      "4     no      divorced           95k\n",
      "5     no       married           60k\n",
      "6    yes      divorced          220k\n",
      "7     no        single           85k\n",
      "8     no       married           75k\n",
      "9     no        single           90k\n"
     ]
    }
   ],
   "source": [
    "print(data.loc[:,\"Refund\":\"TaxableIncome\"])"
   ]
  },
  {
   "cell_type": "code",
   "execution_count": 26,
   "id": "20809007-44cb-4dd5-a595-8f23cb190371",
   "metadata": {},
   "outputs": [],
   "source": [
    "import pandas as pd\n",
    "dataset=pd.read_csv('cognitiveData1.csv')"
   ]
  },
  {
   "cell_type": "code",
   "execution_count": 28,
   "id": "1d8bbbc0-77ae-4d0e-9817-14a99f9d9550",
   "metadata": {},
   "outputs": [
    {
     "data": {
      "text/html": [
       "<div>\n",
       "<style scoped>\n",
       "    .dataframe tbody tr th:only-of-type {\n",
       "        vertical-align: middle;\n",
       "    }\n",
       "\n",
       "    .dataframe tbody tr th {\n",
       "        vertical-align: top;\n",
       "    }\n",
       "\n",
       "    .dataframe thead th {\n",
       "        text-align: right;\n",
       "    }\n",
       "</style>\n",
       "<table border=\"1\" class=\"dataframe\">\n",
       "  <thead>\n",
       "    <tr style=\"text-align: right;\">\n",
       "      <th></th>\n",
       "      <th>Id</th>\n",
       "      <th>SepalLengthCm</th>\n",
       "      <th>SepalWidthCm</th>\n",
       "      <th>PetalLengthCm</th>\n",
       "      <th>PetalWidthCm</th>\n",
       "      <th>Species</th>\n",
       "    </tr>\n",
       "  </thead>\n",
       "  <tbody>\n",
       "    <tr>\n",
       "      <th>0</th>\n",
       "      <td>1</td>\n",
       "      <td>5.1</td>\n",
       "      <td>3.5</td>\n",
       "      <td>1.4</td>\n",
       "      <td>0.2</td>\n",
       "      <td>Iris-setosa</td>\n",
       "    </tr>\n",
       "    <tr>\n",
       "      <th>1</th>\n",
       "      <td>2</td>\n",
       "      <td>4.9</td>\n",
       "      <td>3.0</td>\n",
       "      <td>1.4</td>\n",
       "      <td>0.2</td>\n",
       "      <td>Iris-setosa</td>\n",
       "    </tr>\n",
       "    <tr>\n",
       "      <th>2</th>\n",
       "      <td>3</td>\n",
       "      <td>4.7</td>\n",
       "      <td>3.2</td>\n",
       "      <td>1.3</td>\n",
       "      <td>0.2</td>\n",
       "      <td>Iris-setosa</td>\n",
       "    </tr>\n",
       "    <tr>\n",
       "      <th>3</th>\n",
       "      <td>4</td>\n",
       "      <td>4.6</td>\n",
       "      <td>3.1</td>\n",
       "      <td>1.5</td>\n",
       "      <td>0.2</td>\n",
       "      <td>Iris-setosa</td>\n",
       "    </tr>\n",
       "    <tr>\n",
       "      <th>4</th>\n",
       "      <td>5</td>\n",
       "      <td>5.0</td>\n",
       "      <td>3.6</td>\n",
       "      <td>1.4</td>\n",
       "      <td>0.2</td>\n",
       "      <td>Iris-setosa</td>\n",
       "    </tr>\n",
       "  </tbody>\n",
       "</table>\n",
       "</div>"
      ],
      "text/plain": [
       "   Id  SepalLengthCm  SepalWidthCm  PetalLengthCm  PetalWidthCm      Species\n",
       "0   1            5.1           3.5            1.4           0.2  Iris-setosa\n",
       "1   2            4.9           3.0            1.4           0.2  Iris-setosa\n",
       "2   3            4.7           3.2            1.3           0.2  Iris-setosa\n",
       "3   4            4.6           3.1            1.5           0.2  Iris-setosa\n",
       "4   5            5.0           3.6            1.4           0.2  Iris-setosa"
      ]
     },
     "execution_count": 28,
     "metadata": {},
     "output_type": "execute_result"
    }
   ],
   "source": [
    "dataset.head()"
   ]
  },
  {
   "cell_type": "code",
   "execution_count": 30,
   "id": "55c40c99-a8e6-405d-b1db-de9f6d85ce26",
   "metadata": {},
   "outputs": [
    {
     "data": {
      "text/html": [
       "<div>\n",
       "<style scoped>\n",
       "    .dataframe tbody tr th:only-of-type {\n",
       "        vertical-align: middle;\n",
       "    }\n",
       "\n",
       "    .dataframe tbody tr th {\n",
       "        vertical-align: top;\n",
       "    }\n",
       "\n",
       "    .dataframe thead th {\n",
       "        text-align: right;\n",
       "    }\n",
       "</style>\n",
       "<table border=\"1\" class=\"dataframe\">\n",
       "  <thead>\n",
       "    <tr style=\"text-align: right;\">\n",
       "      <th></th>\n",
       "      <th>Id</th>\n",
       "      <th>SepalLengthCm</th>\n",
       "      <th>SepalWidthCm</th>\n",
       "      <th>PetalLengthCm</th>\n",
       "      <th>PetalWidthCm</th>\n",
       "      <th>Species</th>\n",
       "    </tr>\n",
       "  </thead>\n",
       "  <tbody>\n",
       "    <tr>\n",
       "      <th>145</th>\n",
       "      <td>146</td>\n",
       "      <td>6.7</td>\n",
       "      <td>3.0</td>\n",
       "      <td>5.2</td>\n",
       "      <td>2.3</td>\n",
       "      <td>Iris-virginica</td>\n",
       "    </tr>\n",
       "    <tr>\n",
       "      <th>146</th>\n",
       "      <td>147</td>\n",
       "      <td>6.3</td>\n",
       "      <td>2.5</td>\n",
       "      <td>5.0</td>\n",
       "      <td>1.9</td>\n",
       "      <td>Iris-virginica</td>\n",
       "    </tr>\n",
       "    <tr>\n",
       "      <th>147</th>\n",
       "      <td>148</td>\n",
       "      <td>6.5</td>\n",
       "      <td>3.0</td>\n",
       "      <td>5.2</td>\n",
       "      <td>2.0</td>\n",
       "      <td>Iris-virginica</td>\n",
       "    </tr>\n",
       "    <tr>\n",
       "      <th>148</th>\n",
       "      <td>149</td>\n",
       "      <td>6.2</td>\n",
       "      <td>3.4</td>\n",
       "      <td>5.4</td>\n",
       "      <td>2.3</td>\n",
       "      <td>Iris-virginica</td>\n",
       "    </tr>\n",
       "    <tr>\n",
       "      <th>149</th>\n",
       "      <td>150</td>\n",
       "      <td>5.9</td>\n",
       "      <td>3.0</td>\n",
       "      <td>5.1</td>\n",
       "      <td>1.8</td>\n",
       "      <td>Iris-virginica</td>\n",
       "    </tr>\n",
       "  </tbody>\n",
       "</table>\n",
       "</div>"
      ],
      "text/plain": [
       "      Id  SepalLengthCm  SepalWidthCm  PetalLengthCm  PetalWidthCm  \\\n",
       "145  146            6.7           3.0            5.2           2.3   \n",
       "146  147            6.3           2.5            5.0           1.9   \n",
       "147  148            6.5           3.0            5.2           2.0   \n",
       "148  149            6.2           3.4            5.4           2.3   \n",
       "149  150            5.9           3.0            5.1           1.8   \n",
       "\n",
       "            Species  \n",
       "145  Iris-virginica  \n",
       "146  Iris-virginica  \n",
       "147  Iris-virginica  \n",
       "148  Iris-virginica  \n",
       "149  Iris-virginica  "
      ]
     },
     "execution_count": 30,
     "metadata": {},
     "output_type": "execute_result"
    }
   ],
   "source": [
    "dataset.tail()"
   ]
  },
  {
   "cell_type": "code",
   "execution_count": 32,
   "id": "c7eed129-7f2f-4379-9b73-fe54fec5a65e",
   "metadata": {},
   "outputs": [],
   "source": [
    "dataset.drop(4,axis=0,inplace=True)\n"
   ]
  },
  {
   "cell_type": "code",
   "execution_count": 34,
   "id": "c8a6dbbb-980c-4811-a7a2-5bb98abc9a45",
   "metadata": {},
   "outputs": [
    {
     "data": {
      "text/html": [
       "<div>\n",
       "<style scoped>\n",
       "    .dataframe tbody tr th:only-of-type {\n",
       "        vertical-align: middle;\n",
       "    }\n",
       "\n",
       "    .dataframe tbody tr th {\n",
       "        vertical-align: top;\n",
       "    }\n",
       "\n",
       "    .dataframe thead th {\n",
       "        text-align: right;\n",
       "    }\n",
       "</style>\n",
       "<table border=\"1\" class=\"dataframe\">\n",
       "  <thead>\n",
       "    <tr style=\"text-align: right;\">\n",
       "      <th></th>\n",
       "      <th>Id</th>\n",
       "      <th>SepalLengthCm</th>\n",
       "      <th>SepalWidthCm</th>\n",
       "      <th>PetalLengthCm</th>\n",
       "      <th>PetalWidthCm</th>\n",
       "      <th>Species</th>\n",
       "    </tr>\n",
       "  </thead>\n",
       "  <tbody>\n",
       "    <tr>\n",
       "      <th>0</th>\n",
       "      <td>1</td>\n",
       "      <td>5.1</td>\n",
       "      <td>3.5</td>\n",
       "      <td>1.4</td>\n",
       "      <td>0.2</td>\n",
       "      <td>Iris-setosa</td>\n",
       "    </tr>\n",
       "    <tr>\n",
       "      <th>1</th>\n",
       "      <td>2</td>\n",
       "      <td>4.9</td>\n",
       "      <td>3.0</td>\n",
       "      <td>1.4</td>\n",
       "      <td>0.2</td>\n",
       "      <td>Iris-setosa</td>\n",
       "    </tr>\n",
       "    <tr>\n",
       "      <th>2</th>\n",
       "      <td>3</td>\n",
       "      <td>4.7</td>\n",
       "      <td>3.2</td>\n",
       "      <td>1.3</td>\n",
       "      <td>0.2</td>\n",
       "      <td>Iris-setosa</td>\n",
       "    </tr>\n",
       "    <tr>\n",
       "      <th>3</th>\n",
       "      <td>4</td>\n",
       "      <td>4.6</td>\n",
       "      <td>3.1</td>\n",
       "      <td>1.5</td>\n",
       "      <td>0.2</td>\n",
       "      <td>Iris-setosa</td>\n",
       "    </tr>\n",
       "    <tr>\n",
       "      <th>5</th>\n",
       "      <td>6</td>\n",
       "      <td>5.4</td>\n",
       "      <td>3.9</td>\n",
       "      <td>1.7</td>\n",
       "      <td>0.4</td>\n",
       "      <td>Iris-setosa</td>\n",
       "    </tr>\n",
       "  </tbody>\n",
       "</table>\n",
       "</div>"
      ],
      "text/plain": [
       "   Id  SepalLengthCm  SepalWidthCm  PetalLengthCm  PetalWidthCm      Species\n",
       "0   1            5.1           3.5            1.4           0.2  Iris-setosa\n",
       "1   2            4.9           3.0            1.4           0.2  Iris-setosa\n",
       "2   3            4.7           3.2            1.3           0.2  Iris-setosa\n",
       "3   4            4.6           3.1            1.5           0.2  Iris-setosa\n",
       "5   6            5.4           3.9            1.7           0.4  Iris-setosa"
      ]
     },
     "execution_count": 34,
     "metadata": {},
     "output_type": "execute_result"
    }
   ],
   "source": [
    "dataset.head()"
   ]
  },
  {
   "cell_type": "code",
   "execution_count": 36,
   "id": "74f4d64f-b7b4-465e-b0b2-fd0bf5996882",
   "metadata": {},
   "outputs": [],
   "source": [
    "dataset.drop(dataset.columns[2],axis=1,inplace=True)"
   ]
  },
  {
   "cell_type": "code",
   "execution_count": 38,
   "id": "17deaa3a-4777-4a7e-b418-df5883f56aea",
   "metadata": {},
   "outputs": [
    {
     "data": {
      "text/html": [
       "<div>\n",
       "<style scoped>\n",
       "    .dataframe tbody tr th:only-of-type {\n",
       "        vertical-align: middle;\n",
       "    }\n",
       "\n",
       "    .dataframe tbody tr th {\n",
       "        vertical-align: top;\n",
       "    }\n",
       "\n",
       "    .dataframe thead th {\n",
       "        text-align: right;\n",
       "    }\n",
       "</style>\n",
       "<table border=\"1\" class=\"dataframe\">\n",
       "  <thead>\n",
       "    <tr style=\"text-align: right;\">\n",
       "      <th></th>\n",
       "      <th>Id</th>\n",
       "      <th>SepalLengthCm</th>\n",
       "      <th>PetalLengthCm</th>\n",
       "      <th>PetalWidthCm</th>\n",
       "      <th>Species</th>\n",
       "    </tr>\n",
       "  </thead>\n",
       "  <tbody>\n",
       "    <tr>\n",
       "      <th>0</th>\n",
       "      <td>1</td>\n",
       "      <td>5.1</td>\n",
       "      <td>1.4</td>\n",
       "      <td>0.2</td>\n",
       "      <td>Iris-setosa</td>\n",
       "    </tr>\n",
       "    <tr>\n",
       "      <th>1</th>\n",
       "      <td>2</td>\n",
       "      <td>4.9</td>\n",
       "      <td>1.4</td>\n",
       "      <td>0.2</td>\n",
       "      <td>Iris-setosa</td>\n",
       "    </tr>\n",
       "    <tr>\n",
       "      <th>2</th>\n",
       "      <td>3</td>\n",
       "      <td>4.7</td>\n",
       "      <td>1.3</td>\n",
       "      <td>0.2</td>\n",
       "      <td>Iris-setosa</td>\n",
       "    </tr>\n",
       "    <tr>\n",
       "      <th>3</th>\n",
       "      <td>4</td>\n",
       "      <td>4.6</td>\n",
       "      <td>1.5</td>\n",
       "      <td>0.2</td>\n",
       "      <td>Iris-setosa</td>\n",
       "    </tr>\n",
       "    <tr>\n",
       "      <th>5</th>\n",
       "      <td>6</td>\n",
       "      <td>5.4</td>\n",
       "      <td>1.7</td>\n",
       "      <td>0.4</td>\n",
       "      <td>Iris-setosa</td>\n",
       "    </tr>\n",
       "  </tbody>\n",
       "</table>\n",
       "</div>"
      ],
      "text/plain": [
       "   Id  SepalLengthCm  PetalLengthCm  PetalWidthCm      Species\n",
       "0   1            5.1            1.4           0.2  Iris-setosa\n",
       "1   2            4.9            1.4           0.2  Iris-setosa\n",
       "2   3            4.7            1.3           0.2  Iris-setosa\n",
       "3   4            4.6            1.5           0.2  Iris-setosa\n",
       "5   6            5.4            1.7           0.4  Iris-setosa"
      ]
     },
     "execution_count": 38,
     "metadata": {},
     "output_type": "execute_result"
    }
   ],
   "source": [
    "dataset.head()"
   ]
  },
  {
   "cell_type": "code",
   "execution_count": 40,
   "id": "755a9c4a-9e2b-41b8-b8c8-1f3c033befbc",
   "metadata": {},
   "outputs": [],
   "source": [
    "import pandas as pd\n",
    "data=pd.read_csv('data1.csv')"
   ]
  },
  {
   "cell_type": "code",
   "execution_count": 42,
   "id": "d9570c88-c339-4956-b88d-397f57d767a2",
   "metadata": {},
   "outputs": [
    {
     "data": {
      "text/html": [
       "<div>\n",
       "<style scoped>\n",
       "    .dataframe tbody tr th:only-of-type {\n",
       "        vertical-align: middle;\n",
       "    }\n",
       "\n",
       "    .dataframe tbody tr th {\n",
       "        vertical-align: top;\n",
       "    }\n",
       "\n",
       "    .dataframe thead th {\n",
       "        text-align: right;\n",
       "    }\n",
       "</style>\n",
       "<table border=\"1\" class=\"dataframe\">\n",
       "  <thead>\n",
       "    <tr style=\"text-align: right;\">\n",
       "      <th></th>\n",
       "      <th>Employee_ID</th>\n",
       "      <th>Name</th>\n",
       "      <th>Department</th>\n",
       "      <th>Age</th>\n",
       "      <th>Salary</th>\n",
       "      <th>Years_of_Experience</th>\n",
       "      <th>Joining_Date</th>\n",
       "      <th>Gender</th>\n",
       "      <th>Bonus</th>\n",
       "      <th>Rating</th>\n",
       "    </tr>\n",
       "  </thead>\n",
       "  <tbody>\n",
       "    <tr>\n",
       "      <th>0</th>\n",
       "      <td>101</td>\n",
       "      <td>Alice</td>\n",
       "      <td>HR</td>\n",
       "      <td>29</td>\n",
       "      <td>50000</td>\n",
       "      <td>4</td>\n",
       "      <td>15-03-2020</td>\n",
       "      <td>Female</td>\n",
       "      <td>5000</td>\n",
       "      <td>4.5</td>\n",
       "    </tr>\n",
       "    <tr>\n",
       "      <th>1</th>\n",
       "      <td>102</td>\n",
       "      <td>Bob</td>\n",
       "      <td>IT</td>\n",
       "      <td>34</td>\n",
       "      <td>70000</td>\n",
       "      <td>8</td>\n",
       "      <td>19-07-2017</td>\n",
       "      <td>Male</td>\n",
       "      <td>7000</td>\n",
       "      <td>4.0</td>\n",
       "    </tr>\n",
       "    <tr>\n",
       "      <th>2</th>\n",
       "      <td>103</td>\n",
       "      <td>Charlie</td>\n",
       "      <td>IT</td>\n",
       "      <td>41</td>\n",
       "      <td>65000</td>\n",
       "      <td>10</td>\n",
       "      <td>01-06-2013</td>\n",
       "      <td>Male</td>\n",
       "      <td>6000</td>\n",
       "      <td>3.8</td>\n",
       "    </tr>\n",
       "    <tr>\n",
       "      <th>3</th>\n",
       "      <td>104</td>\n",
       "      <td>Diana</td>\n",
       "      <td>Marketing</td>\n",
       "      <td>28</td>\n",
       "      <td>55000</td>\n",
       "      <td>3</td>\n",
       "      <td>10-02-2021</td>\n",
       "      <td>Female</td>\n",
       "      <td>4500</td>\n",
       "      <td>4.7</td>\n",
       "    </tr>\n",
       "    <tr>\n",
       "      <th>4</th>\n",
       "      <td>105</td>\n",
       "      <td>Edward</td>\n",
       "      <td>Sales</td>\n",
       "      <td>38</td>\n",
       "      <td>60000</td>\n",
       "      <td>12</td>\n",
       "      <td>25-11-2010</td>\n",
       "      <td>Male</td>\n",
       "      <td>5000</td>\n",
       "      <td>3.5</td>\n",
       "    </tr>\n",
       "  </tbody>\n",
       "</table>\n",
       "</div>"
      ],
      "text/plain": [
       "   Employee_ID     Name Department  Age  Salary  Years_of_Experience  \\\n",
       "0          101    Alice         HR   29   50000                    4   \n",
       "1          102      Bob         IT   34   70000                    8   \n",
       "2          103  Charlie         IT   41   65000                   10   \n",
       "3          104    Diana  Marketing   28   55000                    3   \n",
       "4          105   Edward      Sales   38   60000                   12   \n",
       "\n",
       "  Joining_Date  Gender  Bonus  Rating  \n",
       "0   15-03-2020  Female   5000     4.5  \n",
       "1   19-07-2017    Male   7000     4.0  \n",
       "2   01-06-2013    Male   6000     3.8  \n",
       "3   10-02-2021  Female   4500     4.7  \n",
       "4   25-11-2010    Male   5000     3.5  "
      ]
     },
     "execution_count": 42,
     "metadata": {},
     "output_type": "execute_result"
    }
   ],
   "source": [
    "data.head()"
   ]
  },
  {
   "cell_type": "code",
   "execution_count": 44,
   "id": "604965bd-d8c9-473d-8e39-d8ef3bcc7344",
   "metadata": {},
   "outputs": [],
   "source": [
    "df=pd.DataFrame(data)"
   ]
  },
  {
   "cell_type": "code",
   "execution_count": 48,
   "id": "cb76ac5c-37e3-45e4-a510-72a0bedb636c",
   "metadata": {},
   "outputs": [
    {
     "name": "stdout",
     "output_type": "stream",
     "text": [
      "Shape: (5, 10)\n"
     ]
    }
   ],
   "source": [
    "print(\"Shape:\",df.shape)"
   ]
  },
  {
   "cell_type": "code",
   "execution_count": 50,
   "id": "f3e8468b-45c5-4b9e-ae48-7265300ab1ce",
   "metadata": {},
   "outputs": [
    {
     "name": "stdout",
     "output_type": "stream",
     "text": [
      "<class 'pandas.core.frame.DataFrame'>\n",
      "RangeIndex: 5 entries, 0 to 4\n",
      "Data columns (total 10 columns):\n",
      " #   Column               Non-Null Count  Dtype  \n",
      "---  ------               --------------  -----  \n",
      " 0   Employee_ID          5 non-null      int64  \n",
      " 1   Name                 5 non-null      object \n",
      " 2   Department           5 non-null      object \n",
      " 3   Age                  5 non-null      int64  \n",
      " 4   Salary               5 non-null      int64  \n",
      " 5   Years_of_Experience  5 non-null      int64  \n",
      " 6   Joining_Date         5 non-null      object \n",
      " 7   Gender               5 non-null      object \n",
      " 8   Bonus                5 non-null      int64  \n",
      " 9   Rating               5 non-null      float64\n",
      "dtypes: float64(1), int64(5), object(4)\n",
      "memory usage: 532.0+ bytes\n",
      "None\n"
     ]
    }
   ],
   "source": [
    "print(df.info())"
   ]
  },
  {
   "cell_type": "code",
   "execution_count": 52,
   "id": "c4b1e467-5529-46f7-a166-9589ff825736",
   "metadata": {},
   "outputs": [
    {
     "name": "stdout",
     "output_type": "stream",
     "text": [
      "       Employee_ID        Age       Salary  Years_of_Experience   Bonus  \\\n",
      "count     5.000000   5.000000      5.00000             5.000000     5.0   \n",
      "mean    103.000000  34.000000  60000.00000             7.400000  5500.0   \n",
      "std       1.581139   5.612486   7905.69415             3.847077  1000.0   \n",
      "min     101.000000  28.000000  50000.00000             3.000000  4500.0   \n",
      "25%     102.000000  29.000000  55000.00000             4.000000  5000.0   \n",
      "50%     103.000000  34.000000  60000.00000             8.000000  5000.0   \n",
      "75%     104.000000  38.000000  65000.00000            10.000000  6000.0   \n",
      "max     105.000000  41.000000  70000.00000            12.000000  7000.0   \n",
      "\n",
      "         Rating  \n",
      "count  5.000000  \n",
      "mean   4.100000  \n",
      "std    0.494975  \n",
      "min    3.500000  \n",
      "25%    3.800000  \n",
      "50%    4.000000  \n",
      "75%    4.500000  \n",
      "max    4.700000  \n"
     ]
    }
   ],
   "source": [
    "print(df.describe())"
   ]
  },
  {
   "cell_type": "code",
   "execution_count": 54,
   "id": "fcababeb-450a-40e0-9226-cecdbf00072e",
   "metadata": {},
   "outputs": [
    {
     "name": "stdout",
     "output_type": "stream",
     "text": [
      "   Employee_ID     Name Department  Age  Salary  Years_of_Experience  \\\n",
      "0          101    Alice         HR   29   50000                    4   \n",
      "1          102      Bob         IT   34   70000                    8   \n",
      "2          103  Charlie         IT   41   65000                   10   \n",
      "3          104    Diana  Marketing   28   55000                    3   \n",
      "4          105   Edward      Sales   38   60000                   12   \n",
      "\n",
      "  Joining_Date  Gender  Bonus  Rating  \n",
      "0   15-03-2020  Female   5000     4.5  \n",
      "1   19-07-2017    Male   7000     4.0  \n",
      "2   01-06-2013    Male   6000     3.8  \n",
      "3   10-02-2021  Female   4500     4.7  \n",
      "4   25-11-2010    Male   5000     3.5  \n"
     ]
    }
   ],
   "source": [
    "print(data.head())"
   ]
  },
  {
   "cell_type": "code",
   "execution_count": 56,
   "id": "67e02f92-e895-47e3-9a14-03b3d0d1456c",
   "metadata": {},
   "outputs": [
    {
     "name": "stdout",
     "output_type": "stream",
     "text": [
      "   Employee_ID     Name Department  Age  Salary  Years_of_Experience  \\\n",
      "2          103  Charlie         IT   41   65000                   10   \n",
      "3          104    Diana  Marketing   28   55000                    3   \n",
      "4          105   Edward      Sales   38   60000                   12   \n",
      "\n",
      "  Joining_Date  Gender  Bonus  Rating  \n",
      "2   01-06-2013    Male   6000     3.8  \n",
      "3   10-02-2021  Female   4500     4.7  \n",
      "4   25-11-2010    Male   5000     3.5  \n"
     ]
    }
   ],
   "source": [
    "print(data.tail(3))"
   ]
  },
  {
   "cell_type": "code",
   "execution_count": 58,
   "id": "ef8312e4-5f35-4a89-b49c-dc2b9e6ab0a2",
   "metadata": {},
   "outputs": [
    {
     "data": {
      "text/plain": [
       "60000.0"
      ]
     },
     "execution_count": 58,
     "metadata": {},
     "output_type": "execute_result"
    }
   ],
   "source": [
    "df[\"Salary\"].mean()"
   ]
  },
  {
   "cell_type": "code",
   "execution_count": 60,
   "id": "51066dbd-8e51-4498-9890-cd1a8f2c9f9f",
   "metadata": {},
   "outputs": [
    {
     "data": {
      "text/plain": [
       "27500"
      ]
     },
     "execution_count": 60,
     "metadata": {},
     "output_type": "execute_result"
    }
   ],
   "source": [
    "df[\"Bonus\"].sum()"
   ]
  },
  {
   "cell_type": "code",
   "execution_count": 62,
   "id": "ee8dabdb-8d62-4c1d-a3bf-075cd9ce5bbb",
   "metadata": {},
   "outputs": [
    {
     "data": {
      "text/plain": [
       "28"
      ]
     },
     "execution_count": 62,
     "metadata": {},
     "output_type": "execute_result"
    }
   ],
   "source": [
    "df[\"Age\"].min()"
   ]
  },
  {
   "cell_type": "code",
   "execution_count": 64,
   "id": "255918ff-7598-406e-9cfa-e09655da2452",
   "metadata": {},
   "outputs": [
    {
     "data": {
      "text/plain": [
       "4.7"
      ]
     },
     "execution_count": 64,
     "metadata": {},
     "output_type": "execute_result"
    }
   ],
   "source": [
    "df[\"Rating\"].max()"
   ]
  },
  {
   "cell_type": "code",
   "execution_count": 66,
   "id": "97e09564-3489-480c-a7c4-ea20da30e23c",
   "metadata": {},
   "outputs": [
    {
     "name": "stdout",
     "output_type": "stream",
     "text": [
      "   Employee_ID     Name Department  Age  Salary  Years_of_Experience  \\\n",
      "1          102      Bob         IT   34   70000                    8   \n",
      "2          103  Charlie         IT   41   65000                   10   \n",
      "4          105   Edward      Sales   38   60000                   12   \n",
      "3          104    Diana  Marketing   28   55000                    3   \n",
      "0          101    Alice         HR   29   50000                    4   \n",
      "\n",
      "  Joining_Date  Gender  Bonus  Rating  \n",
      "1   19-07-2017    Male   7000     4.0  \n",
      "2   01-06-2013    Male   6000     3.8  \n",
      "4   25-11-2010    Male   5000     3.5  \n",
      "3   10-02-2021  Female   4500     4.7  \n",
      "0   15-03-2020  Female   5000     4.5  \n"
     ]
    }
   ],
   "source": [
    "df_sorted=df.sort_values(by=\"Salary\",ascending=False)\n",
    "print(df_sorted)"
   ]
  },
  {
   "cell_type": "code",
   "execution_count": 68,
   "id": "cc950af1-3ee8-4e5c-a4a3-f39fe04b84bc",
   "metadata": {},
   "outputs": [
    {
     "name": "stdout",
     "output_type": "stream",
     "text": [
      "   Employee_ID     Name Department  Age  Salary  Years_of_Experience  \\\n",
      "0          101    Alice         HR   29   50000                    4   \n",
      "1          102      Bob         IT   34   70000                    8   \n",
      "2          103  Charlie         IT   41   65000                   10   \n",
      "3          104    Diana  Marketing   28   55000                    3   \n",
      "4          105   Edward      Sales   38   60000                   12   \n",
      "\n",
      "  Joining_Date  Gender  Bonus  Rating Performance_category  \n",
      "0   15-03-2020  Female   5000     4.5            Excellent  \n",
      "1   19-07-2017    Male   7000     4.0                 Good  \n",
      "2   01-06-2013    Male   6000     3.8              Average  \n",
      "3   10-02-2021  Female   4500     4.7            Excellent  \n",
      "4   25-11-2010    Male   5000     3.5              Average  \n"
     ]
    }
   ],
   "source": [
    "def performance(rating):\n",
    "    if rating>=4.5:\n",
    "        return \"Excellent\"\n",
    "    elif rating>=4.0:\n",
    "        return \"Good\"\n",
    "    else:\n",
    "        return \"Average\"\n",
    "df[\"Performance_category\"]=df[\"Rating\"].apply(performance)\n",
    "print(df)"
   ]
  },
  {
   "cell_type": "code",
   "execution_count": 70,
   "id": "3b146ec9-cec7-46b1-83c6-e2cd87fd804a",
   "metadata": {},
   "outputs": [
    {
     "name": "stdout",
     "output_type": "stream",
     "text": [
      "Employee_ID             0\n",
      "Name                    0\n",
      "Department              0\n",
      "Age                     0\n",
      "Salary                  0\n",
      "Years_of_Experience     0\n",
      "Joining_Date            0\n",
      "Gender                  0\n",
      "Bonus                   0\n",
      "Rating                  0\n",
      "Performance_category    0\n",
      "dtype: int64\n"
     ]
    }
   ],
   "source": [
    "print(df.isnull().sum())"
   ]
  },
  {
   "cell_type": "code",
   "execution_count": 72,
   "id": "34e71051-b2b4-40a3-b59c-031e64ae2c04",
   "metadata": {},
   "outputs": [
    {
     "name": "stdout",
     "output_type": "stream",
     "text": [
      "    ID     Name Department  Age  Salary  Years_of_Experience Joining_Date  \\\n",
      "0  101    Alice         HR   29   50000                    4   15-03-2020   \n",
      "1  102      Bob         IT   34   70000                    8   19-07-2017   \n",
      "2  103  Charlie         IT   41   65000                   10   01-06-2013   \n",
      "3  104    Diana  Marketing   28   55000                    3   10-02-2021   \n",
      "4  105   Edward      Sales   38   60000                   12   25-11-2010   \n",
      "\n",
      "   Gender  Bonus  Rating Performance_category  \n",
      "0  Female   5000     4.5            Excellent  \n",
      "1    Male   7000     4.0                 Good  \n",
      "2    Male   6000     3.8              Average  \n",
      "3  Female   4500     4.7            Excellent  \n",
      "4    Male   5000     3.5              Average  \n"
     ]
    }
   ],
   "source": [
    "df.rename(columns={\"Employee_ID\":\"ID\"},inplace=True)\n",
    "print(df.head())"
   ]
  },
  {
   "cell_type": "code",
   "execution_count": 74,
   "id": "08b22cec-7bbe-4eda-9fe2-4afffd1aa86c",
   "metadata": {},
   "outputs": [
    {
     "data": {
      "text/html": [
       "<div>\n",
       "<style scoped>\n",
       "    .dataframe tbody tr th:only-of-type {\n",
       "        vertical-align: middle;\n",
       "    }\n",
       "\n",
       "    .dataframe tbody tr th {\n",
       "        vertical-align: top;\n",
       "    }\n",
       "\n",
       "    .dataframe thead th {\n",
       "        text-align: right;\n",
       "    }\n",
       "</style>\n",
       "<table border=\"1\" class=\"dataframe\">\n",
       "  <thead>\n",
       "    <tr style=\"text-align: right;\">\n",
       "      <th></th>\n",
       "      <th>ID</th>\n",
       "      <th>Name</th>\n",
       "      <th>Department</th>\n",
       "      <th>Age</th>\n",
       "      <th>Salary</th>\n",
       "      <th>Years_of_Experience</th>\n",
       "      <th>Joining_Date</th>\n",
       "      <th>Gender</th>\n",
       "      <th>Bonus</th>\n",
       "      <th>Rating</th>\n",
       "      <th>Performance_category</th>\n",
       "    </tr>\n",
       "  </thead>\n",
       "  <tbody>\n",
       "    <tr>\n",
       "      <th>1</th>\n",
       "      <td>102</td>\n",
       "      <td>Bob</td>\n",
       "      <td>IT</td>\n",
       "      <td>34</td>\n",
       "      <td>70000</td>\n",
       "      <td>8</td>\n",
       "      <td>19-07-2017</td>\n",
       "      <td>Male</td>\n",
       "      <td>7000</td>\n",
       "      <td>4.0</td>\n",
       "      <td>Good</td>\n",
       "    </tr>\n",
       "    <tr>\n",
       "      <th>2</th>\n",
       "      <td>103</td>\n",
       "      <td>Charlie</td>\n",
       "      <td>IT</td>\n",
       "      <td>41</td>\n",
       "      <td>65000</td>\n",
       "      <td>10</td>\n",
       "      <td>01-06-2013</td>\n",
       "      <td>Male</td>\n",
       "      <td>6000</td>\n",
       "      <td>3.8</td>\n",
       "      <td>Average</td>\n",
       "    </tr>\n",
       "    <tr>\n",
       "      <th>4</th>\n",
       "      <td>105</td>\n",
       "      <td>Edward</td>\n",
       "      <td>Sales</td>\n",
       "      <td>38</td>\n",
       "      <td>60000</td>\n",
       "      <td>12</td>\n",
       "      <td>25-11-2010</td>\n",
       "      <td>Male</td>\n",
       "      <td>5000</td>\n",
       "      <td>3.5</td>\n",
       "      <td>Average</td>\n",
       "    </tr>\n",
       "  </tbody>\n",
       "</table>\n",
       "</div>"
      ],
      "text/plain": [
       "    ID     Name Department  Age  Salary  Years_of_Experience Joining_Date  \\\n",
       "1  102      Bob         IT   34   70000                    8   19-07-2017   \n",
       "2  103  Charlie         IT   41   65000                   10   01-06-2013   \n",
       "4  105   Edward      Sales   38   60000                   12   25-11-2010   \n",
       "\n",
       "  Gender  Bonus  Rating Performance_category  \n",
       "1   Male   7000     4.0                 Good  \n",
       "2   Male   6000     3.8              Average  \n",
       "4   Male   5000     3.5              Average  "
      ]
     },
     "execution_count": 74,
     "metadata": {},
     "output_type": "execute_result"
    }
   ],
   "source": [
    "df[df[\"Years_of_Experience\"]>5]"
   ]
  },
  {
   "cell_type": "code",
   "execution_count": 78,
   "id": "631f170d-e114-437e-860f-727204816b49",
   "metadata": {},
   "outputs": [
    {
     "data": {
      "text/html": [
       "<div>\n",
       "<style scoped>\n",
       "    .dataframe tbody tr th:only-of-type {\n",
       "        vertical-align: middle;\n",
       "    }\n",
       "\n",
       "    .dataframe tbody tr th {\n",
       "        vertical-align: top;\n",
       "    }\n",
       "\n",
       "    .dataframe thead th {\n",
       "        text-align: right;\n",
       "    }\n",
       "</style>\n",
       "<table border=\"1\" class=\"dataframe\">\n",
       "  <thead>\n",
       "    <tr style=\"text-align: right;\">\n",
       "      <th></th>\n",
       "      <th>ID</th>\n",
       "      <th>Name</th>\n",
       "      <th>Department</th>\n",
       "      <th>Age</th>\n",
       "      <th>Salary</th>\n",
       "      <th>Years_of_Experience</th>\n",
       "      <th>Joining_Date</th>\n",
       "      <th>Gender</th>\n",
       "      <th>Bonus</th>\n",
       "      <th>Rating</th>\n",
       "      <th>Performance_category</th>\n",
       "    </tr>\n",
       "  </thead>\n",
       "  <tbody>\n",
       "    <tr>\n",
       "      <th>1</th>\n",
       "      <td>102</td>\n",
       "      <td>Bob</td>\n",
       "      <td>IT</td>\n",
       "      <td>34</td>\n",
       "      <td>70000</td>\n",
       "      <td>8</td>\n",
       "      <td>19-07-2017</td>\n",
       "      <td>Male</td>\n",
       "      <td>7000</td>\n",
       "      <td>4.0</td>\n",
       "      <td>Good</td>\n",
       "    </tr>\n",
       "    <tr>\n",
       "      <th>2</th>\n",
       "      <td>103</td>\n",
       "      <td>Charlie</td>\n",
       "      <td>IT</td>\n",
       "      <td>41</td>\n",
       "      <td>65000</td>\n",
       "      <td>10</td>\n",
       "      <td>01-06-2013</td>\n",
       "      <td>Male</td>\n",
       "      <td>6000</td>\n",
       "      <td>3.8</td>\n",
       "      <td>Average</td>\n",
       "    </tr>\n",
       "  </tbody>\n",
       "</table>\n",
       "</div>"
      ],
      "text/plain": [
       "    ID     Name Department  Age  Salary  Years_of_Experience Joining_Date  \\\n",
       "1  102      Bob         IT   34   70000                    8   19-07-2017   \n",
       "2  103  Charlie         IT   41   65000                   10   01-06-2013   \n",
       "\n",
       "  Gender  Bonus  Rating Performance_category  \n",
       "1   Male   7000     4.0                 Good  \n",
       "2   Male   6000     3.8              Average  "
      ]
     },
     "execution_count": 78,
     "metadata": {},
     "output_type": "execute_result"
    }
   ],
   "source": [
    "df[df[\"Department\"]==\"IT\"]"
   ]
  },
  {
   "cell_type": "code",
   "execution_count": 80,
   "id": "56a7a68b-752d-442c-a865-ab303281b4be",
   "metadata": {},
   "outputs": [
    {
     "name": "stdout",
     "output_type": "stream",
     "text": [
      "    ID     Name Department  Age  Salary  Years_of_Experience Joining_Date  \\\n",
      "0  101    Alice         HR   29   50000                    4   15-03-2020   \n",
      "1  102      Bob         IT   34   70000                    8   19-07-2017   \n",
      "2  103  Charlie         IT   41   65000                   10   01-06-2013   \n",
      "3  104    Diana  Marketing   28   55000                    3   10-02-2021   \n",
      "4  105   Edward      Sales   38   60000                   12   25-11-2010   \n",
      "\n",
      "   Gender  Bonus  Rating Performance_category     Tax  \n",
      "0  Female   5000     4.5            Excellent  5000.0  \n",
      "1    Male   7000     4.0                 Good  7000.0  \n",
      "2    Male   6000     3.8              Average  6500.0  \n",
      "3  Female   4500     4.7            Excellent  5500.0  \n",
      "4    Male   5000     3.5              Average  6000.0  \n"
     ]
    }
   ],
   "source": [
    "df[\"Tax\"]=df[\"Salary\"]*0.10\n",
    "print(df)"
   ]
  },
  {
   "cell_type": "code",
   "execution_count": 84,
   "id": "ae69bde6-22c7-40a0-b946-00b4710001aa",
   "metadata": {},
   "outputs": [],
   "source": [
    "df.to_csv(\"data1.csv\",index=False)"
   ]
  },
  {
   "cell_type": "code",
   "execution_count": null,
   "id": "64c5925c-40f9-4bc7-a14a-d49a62d69f2b",
   "metadata": {},
   "outputs": [],
   "source": []
  }
 ],
 "metadata": {
  "kernelspec": {
   "display_name": "Python [conda env:base] *",
   "language": "python",
   "name": "conda-base-py"
  },
  "language_info": {
   "codemirror_mode": {
    "name": "ipython",
    "version": 3
   },
   "file_extension": ".py",
   "mimetype": "text/x-python",
   "name": "python",
   "nbconvert_exporter": "python",
   "pygments_lexer": "ipython3",
   "version": "3.12.7"
  }
 },
 "nbformat": 4,
 "nbformat_minor": 5
}
